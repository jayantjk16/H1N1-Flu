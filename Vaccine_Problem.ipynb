{
 "cells": [
  {
   "cell_type": "code",
   "execution_count": 1,
   "id": "76de5787",
   "metadata": {},
   "outputs": [],
   "source": [
    "import os\n",
    "import pandas as pd\n",
    "import numpy as np\n",
    "import matplotlib.pyplot as plt\n",
    "import seaborn as sns\n",
    "from sklearn.model_selection import train_test_split\n",
    "from sklearn.linear_model import LogisticRegression\n",
    "from sklearn.ensemble import AdaBoostClassifier\n",
    "from sklearn.tree import DecisionTreeClassifier\n",
    "from sklearn.preprocessing import StandardScaler,MinMaxScaler\n",
    "from sklearn.ensemble import RandomForestClassifier \n",
    "from xgboost import XGBClassifier\n",
    "from sklearn.model_selection import GridSearchCV\n",
    "from sklearn.neighbors import KNeighborsClassifier\n",
    "%matplotlib inline"
   ]
  },
  {
   "cell_type": "code",
   "execution_count": 2,
   "id": "9e8284fb",
   "metadata": {},
   "outputs": [
    {
     "data": {
      "text/plain": [
       "['.ipynb_checkpoints',\n",
       " '25_08_2021(Vaccine_Problem).ipynb',\n",
       " 'All.jpg',\n",
       " 'df.html',\n",
       " 'df.xlsx',\n",
       " 'h1n1_vaccine_prediction.csv',\n",
       " 'Health worker Vaccination.jpeg',\n",
       " 'In_the_Age_group_of_35_44_years.jpg',\n",
       " 'People worried about getting sick Vs getting Vaccines.jpeg',\n",
       " 'Problem Statement_LogisticReg.pdf',\n",
       " 'Vaccine Problem.docx',\n",
       " 'Vaccine.xlsx',\n",
       " '~$ccine Problem.docx',\n",
       " '~WRL1262.tmp']"
      ]
     },
     "execution_count": 2,
     "metadata": {},
     "output_type": "execute_result"
    }
   ],
   "source": [
    "os.listdir()"
   ]
  },
  {
   "cell_type": "markdown",
   "id": "f8a9fe52",
   "metadata": {},
   "source": [
    "Columns                   | Description\n",
    "--------------------------|-------------------------------------------------------\n",
    "unique_id                 | Unique identifier for each respondent\n",
    "h1n1_worry                | Worry about the h1n1 flu(0,1,2,3) 0=Not worried at all, 1=Not very worried, 2=Somewhat worried, 3=Very worried\n",
    "h1n1_awareness            | Signifies the amount of knowledge or understanding the respondent has about h1n1 flu - (0,1,2) - 0=No knowledge, 1=little knowledge, 2=good knowledge\n",
    "antiviral_medication      | Has the respondent taken antiviral vaccination - (0,1)\n",
    "contact_avoidance         | Has avoided any close contact with people who have flu-like symptoms - (0,1)\n",
    "bought_face_mask          | Has the respondent bought mask or not - (0,1)\n",
    "wash_hands_frequently     | Washes hands frequently or uses hand sanitizer -(0,1)\n",
    "avoid_large_gatherings    | Has the respondent reduced time spent at large gatherings - (0,1)\n",
    "reduced_outside_home_cont | Has the respondent reduced contact with people outside their own house - (0,1)\n",
    "avoid_touch_face          | Avoids touching nose, eyes, mouth - (0,1)\n",
    "dr_recc_h1n1_vacc         | Doctor has recommended h1n1 vaccine - (0,1)\n",
    "dr_recc_seasonal_vacc     | The doctor has recommended seasonalflu vaccine -(0,1)\n",
    "chronic_medic_condition   | Has any chronic medical condition - (0,1) \n",
    "cont_child_undr_6_mnth    | Has regular contact with child the age of 6 months -(0,1)\n",
    "is_health_worker          | Is respondent a health worker - (0,1)\n",
    "has_health_insur          | Does respondent have health insurance - (0,1)\n",
    "is_h1n1_vacc_effective    | Does respondent think that the h1n1 vaccine is effective - (1,2,3,4,5)- (1=Thinks not effective at all, 2=Thinks it is not very effective, 3=Doesn't know if it is effective or not, 4=Thinks it is somewhat effective, 5=Thinks it is highly effective)\n",
    "is_h1n1_risky             | What respondents think about the risk of getting illwith h1n1 in the absence of the vaccine- (1,2,3,4,5)-(1=Thinks it is not very low risk, 2=Thinks it is somewhat low risk, 3=don’t know if it is risky or not, 4=Thinks it is a somewhat high risk, 5=Thinks it is very highly risky)\n",
    "sick_from_h1n1_vacc       | Does respondent worry about getting sick by taking the h1n1 vaccine - (1,2,3,4,5)- (1=Respondent not worried at all, 2=Respondent is not very worried,3=Doesn't know, 4=Respondent is somewhat worried,5Respondent is very worried) -\n",
    "is_seas_vacc_effective    | Does respondent think that the seasonal vaccine is effective- (1,2,3,4,5)- (1=Thinks not effective at all, 2=Thinks it is not very effective, 3=Doesn't know if it is effective or not, 4=Thinks it is somewhat effective,5=Thinks it is highly effective)\n",
    "is_seas_flu_risky         | What respondenst think about the risk of getting ill with seasonal flu in the absence of the vaccine- (1,2,3,4,5)- (1=Thinks it is not very low risk, 2=Thinks it is somewhat low risk, 3=Doesn't know if it is risky or not, 4=Thinks it is somewhat high risk, 5=Thinks it is very highly risky)                                                                                                      \n",
    "sick_from_seas_vacc       | Does respondent worry about getting sick by taking the seasonal flu vaccine - (1,2,3,4,5)- (1=Respondent not worried at all, 2=Respondent is not very worried,3=Doesn't know, 4=Respondent is somewhat worried, 5Respondent is very worried)\n",
    "age_bracket               | Age bracket of the respondent - (18 - 34 Years, 35 - 44 Years, 45 - 54 Years, 55 - 64 Years, 64+ Years)\n",
    "qualification             | Qualification/education level of the respondent as per their response -(<12 Years, 12 Years, College Graduate, Some College) \n",
    "race                      | Respondent's race - (White, Black, Other or Multiple ,Hispanic)\n",
    "sex                       | Respondent's sex - (Female, Male)\n",
    "income_level              | Annual income of the respondent as per the 2008 poverty Census - (<= 75000−AbovePoverty,> 75000−AbovePoverty,>75000, Below Poverty)\n",
    "marital_status            | Respondent's marital status - (Not Married, Married)\n",
    "housing_status            | Respondent's housing status - (Own, Rent)\n",
    "employment                | Respondent's employment status - (Not in Labor Force, Employed, Unemployed) \n",
    "census_msa                | Residence of the respondent with the MSA(metropolitan statistical area)(Non-MSA, MSANot Principle, CityMSA-Principle city) - (Yes, no)   \n",
    "no_of_adults              | Number of adults in the respondent's house (0,1,2,3) - (Yes, no)\n",
    "no_of_children            | Number of children in the respondent's house(0,1,2,3)- (Yes, No)\n",
    "h1n1_vaccine              | Dependent variable)Did the respondent received the h1n1 vaccine or not(1,0) - (Yes, No)                                                                                                                \n",
    "                                                                                                                        "
   ]
  },
  {
   "cell_type": "code",
   "execution_count": 3,
   "id": "69fd2ad0",
   "metadata": {},
   "outputs": [],
   "source": [
    "df = pd.read_csv(\"h1n1_vaccine_prediction.csv\")"
   ]
  },
  {
   "cell_type": "code",
   "execution_count": 4,
   "id": "80d1c604",
   "metadata": {},
   "outputs": [
    {
     "data": {
      "text/html": [
       "<div>\n",
       "<style scoped>\n",
       "    .dataframe tbody tr th:only-of-type {\n",
       "        vertical-align: middle;\n",
       "    }\n",
       "\n",
       "    .dataframe tbody tr th {\n",
       "        vertical-align: top;\n",
       "    }\n",
       "\n",
       "    .dataframe thead th {\n",
       "        text-align: right;\n",
       "    }\n",
       "</style>\n",
       "<table border=\"1\" class=\"dataframe\">\n",
       "  <thead>\n",
       "    <tr style=\"text-align: right;\">\n",
       "      <th></th>\n",
       "      <th>unique_id</th>\n",
       "      <th>h1n1_worry</th>\n",
       "      <th>h1n1_awareness</th>\n",
       "      <th>antiviral_medication</th>\n",
       "      <th>contact_avoidance</th>\n",
       "      <th>bought_face_mask</th>\n",
       "      <th>wash_hands_frequently</th>\n",
       "      <th>avoid_large_gatherings</th>\n",
       "      <th>reduced_outside_home_cont</th>\n",
       "      <th>avoid_touch_face</th>\n",
       "      <th>...</th>\n",
       "      <th>race</th>\n",
       "      <th>sex</th>\n",
       "      <th>income_level</th>\n",
       "      <th>marital_status</th>\n",
       "      <th>housing_status</th>\n",
       "      <th>employment</th>\n",
       "      <th>census_msa</th>\n",
       "      <th>no_of_adults</th>\n",
       "      <th>no_of_children</th>\n",
       "      <th>h1n1_vaccine</th>\n",
       "    </tr>\n",
       "  </thead>\n",
       "  <tbody>\n",
       "    <tr>\n",
       "      <th>0</th>\n",
       "      <td>0</td>\n",
       "      <td>1.0</td>\n",
       "      <td>0.0</td>\n",
       "      <td>0.0</td>\n",
       "      <td>0.0</td>\n",
       "      <td>0.0</td>\n",
       "      <td>0.0</td>\n",
       "      <td>0.0</td>\n",
       "      <td>1.0</td>\n",
       "      <td>1.0</td>\n",
       "      <td>...</td>\n",
       "      <td>White</td>\n",
       "      <td>Female</td>\n",
       "      <td>Below Poverty</td>\n",
       "      <td>Not Married</td>\n",
       "      <td>Own</td>\n",
       "      <td>Not in Labor Force</td>\n",
       "      <td>Non-MSA</td>\n",
       "      <td>0.0</td>\n",
       "      <td>0.0</td>\n",
       "      <td>0</td>\n",
       "    </tr>\n",
       "    <tr>\n",
       "      <th>1</th>\n",
       "      <td>1</td>\n",
       "      <td>3.0</td>\n",
       "      <td>2.0</td>\n",
       "      <td>0.0</td>\n",
       "      <td>1.0</td>\n",
       "      <td>0.0</td>\n",
       "      <td>1.0</td>\n",
       "      <td>0.0</td>\n",
       "      <td>1.0</td>\n",
       "      <td>1.0</td>\n",
       "      <td>...</td>\n",
       "      <td>White</td>\n",
       "      <td>Male</td>\n",
       "      <td>Below Poverty</td>\n",
       "      <td>Not Married</td>\n",
       "      <td>Rent</td>\n",
       "      <td>Employed</td>\n",
       "      <td>MSA, Not Principle  City</td>\n",
       "      <td>0.0</td>\n",
       "      <td>0.0</td>\n",
       "      <td>0</td>\n",
       "    </tr>\n",
       "    <tr>\n",
       "      <th>2</th>\n",
       "      <td>2</td>\n",
       "      <td>1.0</td>\n",
       "      <td>1.0</td>\n",
       "      <td>0.0</td>\n",
       "      <td>1.0</td>\n",
       "      <td>0.0</td>\n",
       "      <td>0.0</td>\n",
       "      <td>0.0</td>\n",
       "      <td>0.0</td>\n",
       "      <td>0.0</td>\n",
       "      <td>...</td>\n",
       "      <td>White</td>\n",
       "      <td>Male</td>\n",
       "      <td>&lt;= $75,000, Above Poverty</td>\n",
       "      <td>Not Married</td>\n",
       "      <td>Own</td>\n",
       "      <td>Employed</td>\n",
       "      <td>MSA, Not Principle  City</td>\n",
       "      <td>2.0</td>\n",
       "      <td>0.0</td>\n",
       "      <td>0</td>\n",
       "    </tr>\n",
       "    <tr>\n",
       "      <th>3</th>\n",
       "      <td>3</td>\n",
       "      <td>1.0</td>\n",
       "      <td>1.0</td>\n",
       "      <td>0.0</td>\n",
       "      <td>1.0</td>\n",
       "      <td>0.0</td>\n",
       "      <td>1.0</td>\n",
       "      <td>1.0</td>\n",
       "      <td>0.0</td>\n",
       "      <td>0.0</td>\n",
       "      <td>...</td>\n",
       "      <td>White</td>\n",
       "      <td>Female</td>\n",
       "      <td>Below Poverty</td>\n",
       "      <td>Not Married</td>\n",
       "      <td>Rent</td>\n",
       "      <td>Not in Labor Force</td>\n",
       "      <td>MSA, Principle City</td>\n",
       "      <td>0.0</td>\n",
       "      <td>0.0</td>\n",
       "      <td>0</td>\n",
       "    </tr>\n",
       "    <tr>\n",
       "      <th>4</th>\n",
       "      <td>4</td>\n",
       "      <td>2.0</td>\n",
       "      <td>1.0</td>\n",
       "      <td>0.0</td>\n",
       "      <td>1.0</td>\n",
       "      <td>0.0</td>\n",
       "      <td>1.0</td>\n",
       "      <td>1.0</td>\n",
       "      <td>0.0</td>\n",
       "      <td>1.0</td>\n",
       "      <td>...</td>\n",
       "      <td>White</td>\n",
       "      <td>Female</td>\n",
       "      <td>&lt;= $75,000, Above Poverty</td>\n",
       "      <td>Married</td>\n",
       "      <td>Own</td>\n",
       "      <td>Employed</td>\n",
       "      <td>MSA, Not Principle  City</td>\n",
       "      <td>1.0</td>\n",
       "      <td>0.0</td>\n",
       "      <td>0</td>\n",
       "    </tr>\n",
       "  </tbody>\n",
       "</table>\n",
       "<p>5 rows × 34 columns</p>\n",
       "</div>"
      ],
      "text/plain": [
       "   unique_id  h1n1_worry  h1n1_awareness  antiviral_medication  \\\n",
       "0          0         1.0             0.0                   0.0   \n",
       "1          1         3.0             2.0                   0.0   \n",
       "2          2         1.0             1.0                   0.0   \n",
       "3          3         1.0             1.0                   0.0   \n",
       "4          4         2.0             1.0                   0.0   \n",
       "\n",
       "   contact_avoidance  bought_face_mask  wash_hands_frequently  \\\n",
       "0                0.0               0.0                    0.0   \n",
       "1                1.0               0.0                    1.0   \n",
       "2                1.0               0.0                    0.0   \n",
       "3                1.0               0.0                    1.0   \n",
       "4                1.0               0.0                    1.0   \n",
       "\n",
       "   avoid_large_gatherings  reduced_outside_home_cont  avoid_touch_face  ...  \\\n",
       "0                     0.0                        1.0               1.0  ...   \n",
       "1                     0.0                        1.0               1.0  ...   \n",
       "2                     0.0                        0.0               0.0  ...   \n",
       "3                     1.0                        0.0               0.0  ...   \n",
       "4                     1.0                        0.0               1.0  ...   \n",
       "\n",
       "    race     sex               income_level  marital_status  housing_status  \\\n",
       "0  White  Female              Below Poverty     Not Married             Own   \n",
       "1  White    Male              Below Poverty     Not Married            Rent   \n",
       "2  White    Male  <= $75,000, Above Poverty     Not Married             Own   \n",
       "3  White  Female              Below Poverty     Not Married            Rent   \n",
       "4  White  Female  <= $75,000, Above Poverty         Married             Own   \n",
       "\n",
       "           employment                census_msa  no_of_adults  no_of_children  \\\n",
       "0  Not in Labor Force                   Non-MSA           0.0             0.0   \n",
       "1            Employed  MSA, Not Principle  City           0.0             0.0   \n",
       "2            Employed  MSA, Not Principle  City           2.0             0.0   \n",
       "3  Not in Labor Force       MSA, Principle City           0.0             0.0   \n",
       "4            Employed  MSA, Not Principle  City           1.0             0.0   \n",
       "\n",
       "   h1n1_vaccine  \n",
       "0             0  \n",
       "1             0  \n",
       "2             0  \n",
       "3             0  \n",
       "4             0  \n",
       "\n",
       "[5 rows x 34 columns]"
      ]
     },
     "execution_count": 4,
     "metadata": {},
     "output_type": "execute_result"
    }
   ],
   "source": [
    "df.head()"
   ]
  },
  {
   "cell_type": "code",
   "execution_count": 5,
   "id": "f3ca4b07",
   "metadata": {},
   "outputs": [],
   "source": [
    "# import sweetviz as sv\n",
    "# ana=sv.analyze(df)\n",
    "# ana.show_html(\"df.html\")\n"
   ]
  },
  {
   "cell_type": "code",
   "execution_count": 6,
   "id": "cf2847ba",
   "metadata": {},
   "outputs": [
    {
     "name": "stdout",
     "output_type": "stream",
     "text": [
      "<class 'pandas.core.frame.DataFrame'>\n",
      "RangeIndex: 26707 entries, 0 to 26706\n",
      "Data columns (total 34 columns):\n",
      " #   Column                     Non-Null Count  Dtype  \n",
      "---  ------                     --------------  -----  \n",
      " 0   unique_id                  26707 non-null  int64  \n",
      " 1   h1n1_worry                 26615 non-null  float64\n",
      " 2   h1n1_awareness             26591 non-null  float64\n",
      " 3   antiviral_medication       26636 non-null  float64\n",
      " 4   contact_avoidance          26499 non-null  float64\n",
      " 5   bought_face_mask           26688 non-null  float64\n",
      " 6   wash_hands_frequently      26665 non-null  float64\n",
      " 7   avoid_large_gatherings     26620 non-null  float64\n",
      " 8   reduced_outside_home_cont  26625 non-null  float64\n",
      " 9   avoid_touch_face           26579 non-null  float64\n",
      " 10  dr_recc_h1n1_vacc          24547 non-null  float64\n",
      " 11  dr_recc_seasonal_vacc      24547 non-null  float64\n",
      " 12  chronic_medic_condition    25736 non-null  float64\n",
      " 13  cont_child_undr_6_mnths    25887 non-null  float64\n",
      " 14  is_health_worker           25903 non-null  float64\n",
      " 15  has_health_insur           14433 non-null  float64\n",
      " 16  is_h1n1_vacc_effective     26316 non-null  float64\n",
      " 17  is_h1n1_risky              26319 non-null  float64\n",
      " 18  sick_from_h1n1_vacc        26312 non-null  float64\n",
      " 19  is_seas_vacc_effective     26245 non-null  float64\n",
      " 20  is_seas_risky              26193 non-null  float64\n",
      " 21  sick_from_seas_vacc        26170 non-null  float64\n",
      " 22  age_bracket                26707 non-null  object \n",
      " 23  qualification              25300 non-null  object \n",
      " 24  race                       26707 non-null  object \n",
      " 25  sex                        26707 non-null  object \n",
      " 26  income_level               22284 non-null  object \n",
      " 27  marital_status             25299 non-null  object \n",
      " 28  housing_status             24665 non-null  object \n",
      " 29  employment                 25244 non-null  object \n",
      " 30  census_msa                 26707 non-null  object \n",
      " 31  no_of_adults               26458 non-null  float64\n",
      " 32  no_of_children             26458 non-null  float64\n",
      " 33  h1n1_vaccine               26707 non-null  int64  \n",
      "dtypes: float64(23), int64(2), object(9)\n",
      "memory usage: 6.9+ MB\n"
     ]
    }
   ],
   "source": [
    "df.info()"
   ]
  },
  {
   "cell_type": "code",
   "execution_count": 7,
   "id": "3756f100",
   "metadata": {},
   "outputs": [
    {
     "name": "stdout",
     "output_type": "stream",
     "text": [
      "<class 'pandas.core.frame.DataFrame'>\n",
      "RangeIndex: 26707 entries, 0 to 26706\n",
      "Data columns (total 9 columns):\n",
      " #   Column          Non-Null Count  Dtype \n",
      "---  ------          --------------  ----- \n",
      " 0   age_bracket     26707 non-null  object\n",
      " 1   qualification   25300 non-null  object\n",
      " 2   race            26707 non-null  object\n",
      " 3   sex             26707 non-null  object\n",
      " 4   income_level    22284 non-null  object\n",
      " 5   marital_status  25299 non-null  object\n",
      " 6   housing_status  24665 non-null  object\n",
      " 7   employment      25244 non-null  object\n",
      " 8   census_msa      26707 non-null  object\n",
      "dtypes: object(9)\n",
      "memory usage: 1.8+ MB\n"
     ]
    }
   ],
   "source": [
    "df.select_dtypes(include=\"O\").info()"
   ]
  },
  {
   "cell_type": "code",
   "execution_count": 8,
   "id": "d774dab4",
   "metadata": {},
   "outputs": [
    {
     "data": {
      "text/plain": [
       "unique_id                        0\n",
       "h1n1_worry                      92\n",
       "h1n1_awareness                 116\n",
       "antiviral_medication            71\n",
       "contact_avoidance              208\n",
       "bought_face_mask                19\n",
       "wash_hands_frequently           42\n",
       "avoid_large_gatherings          87\n",
       "reduced_outside_home_cont       82\n",
       "avoid_touch_face               128\n",
       "dr_recc_h1n1_vacc             2160\n",
       "dr_recc_seasonal_vacc         2160\n",
       "chronic_medic_condition        971\n",
       "cont_child_undr_6_mnths        820\n",
       "is_health_worker               804\n",
       "has_health_insur             12274\n",
       "is_h1n1_vacc_effective         391\n",
       "is_h1n1_risky                  388\n",
       "sick_from_h1n1_vacc            395\n",
       "is_seas_vacc_effective         462\n",
       "is_seas_risky                  514\n",
       "sick_from_seas_vacc            537\n",
       "age_bracket                      0\n",
       "qualification                 1407\n",
       "race                             0\n",
       "sex                              0\n",
       "income_level                  4423\n",
       "marital_status                1408\n",
       "housing_status                2042\n",
       "employment                    1463\n",
       "census_msa                       0\n",
       "no_of_adults                   249\n",
       "no_of_children                 249\n",
       "h1n1_vaccine                     0\n",
       "dtype: int64"
      ]
     },
     "execution_count": 8,
     "metadata": {},
     "output_type": "execute_result"
    }
   ],
   "source": [
    "df.isnull().sum()"
   ]
  },
  {
   "cell_type": "markdown",
   "id": "78e5abbc",
   "metadata": {},
   "source": [
    "### Missing Value:"
   ]
  },
  {
   "cell_type": "code",
   "execution_count": 9,
   "id": "2832f86c",
   "metadata": {},
   "outputs": [
    {
     "data": {
      "text/plain": [
       "92"
      ]
     },
     "execution_count": 9,
     "metadata": {},
     "output_type": "execute_result"
    }
   ],
   "source": [
    "df[\"h1n1_worry\"].isnull().sum()"
   ]
  },
  {
   "cell_type": "code",
   "execution_count": 10,
   "id": "e7f0b2a3",
   "metadata": {},
   "outputs": [
    {
     "data": {
      "text/plain": [
       "2.0    10575\n",
       "1.0     8153\n",
       "3.0     4591\n",
       "0.0     3296\n",
       "Name: h1n1_worry, dtype: int64"
      ]
     },
     "execution_count": 10,
     "metadata": {},
     "output_type": "execute_result"
    }
   ],
   "source": [
    "df[\"h1n1_worry\"].value_counts()"
   ]
  },
  {
   "cell_type": "code",
   "execution_count": 11,
   "id": "09b32f71",
   "metadata": {},
   "outputs": [],
   "source": [
    "df[\"h1n1_worry\"] = df[\"h1n1_worry\"].fillna(value=0)"
   ]
  },
  {
   "cell_type": "code",
   "execution_count": 12,
   "id": "227f7732",
   "metadata": {},
   "outputs": [
    {
     "data": {
      "text/plain": [
       "0"
      ]
     },
     "execution_count": 12,
     "metadata": {},
     "output_type": "execute_result"
    }
   ],
   "source": [
    "df[\"h1n1_worry\"].isnull().sum()"
   ]
  },
  {
   "cell_type": "markdown",
   "id": "7459926a",
   "metadata": {},
   "source": [
    "Null values have been replaced by 0 as these people are not worried that's why they haven't filled the data."
   ]
  },
  {
   "cell_type": "code",
   "execution_count": 13,
   "id": "608f07ae",
   "metadata": {},
   "outputs": [
    {
     "data": {
      "text/plain": [
       "1.0    14598\n",
       "2.0     9487\n",
       "0.0     2506\n",
       "Name: h1n1_awareness, dtype: int64"
      ]
     },
     "execution_count": 13,
     "metadata": {},
     "output_type": "execute_result"
    }
   ],
   "source": [
    "df[\"h1n1_awareness\"].value_counts()"
   ]
  },
  {
   "cell_type": "code",
   "execution_count": 14,
   "id": "74e5059d",
   "metadata": {},
   "outputs": [
    {
     "data": {
      "text/plain": [
       "116"
      ]
     },
     "execution_count": 14,
     "metadata": {},
     "output_type": "execute_result"
    }
   ],
   "source": [
    "df[\"h1n1_awareness\"].isnull().sum()"
   ]
  },
  {
   "cell_type": "code",
   "execution_count": 15,
   "id": "753aab78",
   "metadata": {},
   "outputs": [],
   "source": [
    "df[\"h1n1_awareness\"] = df[\"h1n1_awareness\"].fillna(value=df[\"h1n1_awareness\"].median())"
   ]
  },
  {
   "cell_type": "code",
   "execution_count": 16,
   "id": "f1917035",
   "metadata": {},
   "outputs": [
    {
     "data": {
      "text/plain": [
       "0    1.0\n",
       "dtype: float64"
      ]
     },
     "execution_count": 16,
     "metadata": {},
     "output_type": "execute_result"
    }
   ],
   "source": [
    "df[\"h1n1_awareness\"].mode()"
   ]
  },
  {
   "cell_type": "code",
   "execution_count": 17,
   "id": "211f7231",
   "metadata": {},
   "outputs": [
    {
     "data": {
      "text/plain": [
       "1.0    14714\n",
       "2.0     9487\n",
       "0.0     2506\n",
       "Name: h1n1_awareness, dtype: int64"
      ]
     },
     "execution_count": 17,
     "metadata": {},
     "output_type": "execute_result"
    }
   ],
   "source": [
    "df[\"h1n1_awareness\"].value_counts()"
   ]
  },
  {
   "cell_type": "code",
   "execution_count": 18,
   "id": "2fb75c61",
   "metadata": {},
   "outputs": [
    {
     "data": {
      "text/plain": [
       "0"
      ]
     },
     "execution_count": 18,
     "metadata": {},
     "output_type": "execute_result"
    }
   ],
   "source": [
    "df[\"h1n1_awareness\"].isnull().sum()"
   ]
  },
  {
   "cell_type": "code",
   "execution_count": 19,
   "id": "b4f3609d",
   "metadata": {},
   "outputs": [
    {
     "data": {
      "text/plain": [
       "0.0    25335\n",
       "1.0     1301\n",
       "Name: antiviral_medication, dtype: int64"
      ]
     },
     "execution_count": 19,
     "metadata": {},
     "output_type": "execute_result"
    }
   ],
   "source": [
    "df[\"antiviral_medication\"].value_counts()"
   ]
  },
  {
   "cell_type": "code",
   "execution_count": 20,
   "id": "fc674d85",
   "metadata": {},
   "outputs": [
    {
     "data": {
      "text/plain": [
       "71"
      ]
     },
     "execution_count": 20,
     "metadata": {},
     "output_type": "execute_result"
    }
   ],
   "source": [
    "df[\"antiviral_medication\"].isnull().sum()"
   ]
  },
  {
   "cell_type": "code",
   "execution_count": 21,
   "id": "9ab67b09",
   "metadata": {},
   "outputs": [],
   "source": [
    "df[\"antiviral_medication\"]=df[\"antiviral_medication\"].fillna(value=0)"
   ]
  },
  {
   "cell_type": "code",
   "execution_count": 22,
   "id": "fec489a3",
   "metadata": {},
   "outputs": [
    {
     "data": {
      "text/plain": [
       "0"
      ]
     },
     "execution_count": 22,
     "metadata": {},
     "output_type": "execute_result"
    }
   ],
   "source": [
    "df[\"antiviral_medication\"].isnull().sum()"
   ]
  },
  {
   "cell_type": "code",
   "execution_count": 23,
   "id": "1a310e33",
   "metadata": {},
   "outputs": [
    {
     "data": {
      "text/plain": [
       "unique_id                        0\n",
       "h1n1_worry                       0\n",
       "h1n1_awareness                   0\n",
       "antiviral_medication             0\n",
       "contact_avoidance              208\n",
       "bought_face_mask                19\n",
       "wash_hands_frequently           42\n",
       "avoid_large_gatherings          87\n",
       "reduced_outside_home_cont       82\n",
       "avoid_touch_face               128\n",
       "dr_recc_h1n1_vacc             2160\n",
       "dr_recc_seasonal_vacc         2160\n",
       "chronic_medic_condition        971\n",
       "cont_child_undr_6_mnths        820\n",
       "is_health_worker               804\n",
       "has_health_insur             12274\n",
       "is_h1n1_vacc_effective         391\n",
       "is_h1n1_risky                  388\n",
       "sick_from_h1n1_vacc            395\n",
       "is_seas_vacc_effective         462\n",
       "is_seas_risky                  514\n",
       "sick_from_seas_vacc            537\n",
       "age_bracket                      0\n",
       "qualification                 1407\n",
       "race                             0\n",
       "sex                              0\n",
       "income_level                  4423\n",
       "marital_status                1408\n",
       "housing_status                2042\n",
       "employment                    1463\n",
       "census_msa                       0\n",
       "no_of_adults                   249\n",
       "no_of_children                 249\n",
       "h1n1_vaccine                     0\n",
       "dtype: int64"
      ]
     },
     "execution_count": 23,
     "metadata": {},
     "output_type": "execute_result"
    }
   ],
   "source": [
    "df.isnull().sum()"
   ]
  },
  {
   "cell_type": "code",
   "execution_count": 24,
   "id": "e201cc55",
   "metadata": {},
   "outputs": [
    {
     "data": {
      "text/plain": [
       "1.0    19228\n",
       "0.0     7271\n",
       "Name: contact_avoidance, dtype: int64"
      ]
     },
     "execution_count": 24,
     "metadata": {},
     "output_type": "execute_result"
    }
   ],
   "source": [
    "df[\"contact_avoidance\"].value_counts() "
   ]
  },
  {
   "cell_type": "code",
   "execution_count": 25,
   "id": "ec88228f",
   "metadata": {},
   "outputs": [],
   "source": [
    "df[\"contact_avoidance\"] = df[\"contact_avoidance\"].fillna(value=1)"
   ]
  },
  {
   "cell_type": "code",
   "execution_count": 26,
   "id": "128d6445",
   "metadata": {},
   "outputs": [
    {
     "data": {
      "text/plain": [
       "0.0    24847\n",
       "1.0     1841\n",
       "Name: bought_face_mask, dtype: int64"
      ]
     },
     "execution_count": 26,
     "metadata": {},
     "output_type": "execute_result"
    }
   ],
   "source": [
    "df[\"bought_face_mask\"].value_counts()"
   ]
  },
  {
   "cell_type": "code",
   "execution_count": 27,
   "id": "7c0d150a",
   "metadata": {},
   "outputs": [
    {
     "data": {
      "text/plain": [
       "19"
      ]
     },
     "execution_count": 27,
     "metadata": {},
     "output_type": "execute_result"
    }
   ],
   "source": [
    "df[\"bought_face_mask\"].isnull().sum()"
   ]
  },
  {
   "cell_type": "code",
   "execution_count": 28,
   "id": "f0cb9762",
   "metadata": {},
   "outputs": [],
   "source": [
    "df[\"bought_face_mask\"]=df[\"bought_face_mask\"].fillna(value=0)"
   ]
  },
  {
   "cell_type": "code",
   "execution_count": 29,
   "id": "f947d785",
   "metadata": {},
   "outputs": [
    {
     "data": {
      "text/plain": [
       "0"
      ]
     },
     "execution_count": 29,
     "metadata": {},
     "output_type": "execute_result"
    }
   ],
   "source": [
    "df[\"bought_face_mask\"].isnull().sum()"
   ]
  },
  {
   "cell_type": "code",
   "execution_count": 30,
   "id": "29f9fa3a",
   "metadata": {},
   "outputs": [
    {
     "data": {
      "text/plain": [
       "1.0    22015\n",
       "0.0     4650\n",
       "Name: wash_hands_frequently, dtype: int64"
      ]
     },
     "execution_count": 30,
     "metadata": {},
     "output_type": "execute_result"
    }
   ],
   "source": [
    "df[\"wash_hands_frequently\"].value_counts()"
   ]
  },
  {
   "cell_type": "code",
   "execution_count": 31,
   "id": "e5541e41",
   "metadata": {},
   "outputs": [
    {
     "data": {
      "text/plain": [
       "42"
      ]
     },
     "execution_count": 31,
     "metadata": {},
     "output_type": "execute_result"
    }
   ],
   "source": [
    "df[\"wash_hands_frequently\"].isnull().sum()"
   ]
  },
  {
   "cell_type": "code",
   "execution_count": 32,
   "id": "be19722b",
   "metadata": {},
   "outputs": [],
   "source": [
    "df[\"wash_hands_frequently\"] = df[\"wash_hands_frequently\"].fillna(value=df[\"wash_hands_frequently\"].median())"
   ]
  },
  {
   "cell_type": "code",
   "execution_count": 33,
   "id": "2abaec11",
   "metadata": {},
   "outputs": [
    {
     "data": {
      "text/plain": [
       "1.0    22057\n",
       "0.0     4650\n",
       "Name: wash_hands_frequently, dtype: int64"
      ]
     },
     "execution_count": 33,
     "metadata": {},
     "output_type": "execute_result"
    }
   ],
   "source": [
    "df[\"wash_hands_frequently\"].value_counts()"
   ]
  },
  {
   "cell_type": "code",
   "execution_count": 34,
   "id": "c818005c",
   "metadata": {},
   "outputs": [
    {
     "data": {
      "text/plain": [
       "0.0    17073\n",
       "1.0     9547\n",
       "Name: avoid_large_gatherings, dtype: int64"
      ]
     },
     "execution_count": 34,
     "metadata": {},
     "output_type": "execute_result"
    }
   ],
   "source": [
    "df[\"avoid_large_gatherings\"].value_counts()"
   ]
  },
  {
   "cell_type": "code",
   "execution_count": 35,
   "id": "41112d8b",
   "metadata": {},
   "outputs": [],
   "source": [
    "df[\"avoid_large_gatherings\"] = df[\"avoid_large_gatherings\"].fillna(value=0)"
   ]
  },
  {
   "cell_type": "code",
   "execution_count": 36,
   "id": "426b92f7",
   "metadata": {},
   "outputs": [
    {
     "data": {
      "text/plain": [
       "unique_id                        0\n",
       "h1n1_worry                       0\n",
       "h1n1_awareness                   0\n",
       "antiviral_medication             0\n",
       "contact_avoidance                0\n",
       "bought_face_mask                 0\n",
       "wash_hands_frequently            0\n",
       "avoid_large_gatherings           0\n",
       "reduced_outside_home_cont       82\n",
       "avoid_touch_face               128\n",
       "dr_recc_h1n1_vacc             2160\n",
       "dr_recc_seasonal_vacc         2160\n",
       "chronic_medic_condition        971\n",
       "cont_child_undr_6_mnths        820\n",
       "is_health_worker               804\n",
       "has_health_insur             12274\n",
       "is_h1n1_vacc_effective         391\n",
       "is_h1n1_risky                  388\n",
       "sick_from_h1n1_vacc            395\n",
       "is_seas_vacc_effective         462\n",
       "is_seas_risky                  514\n",
       "sick_from_seas_vacc            537\n",
       "age_bracket                      0\n",
       "qualification                 1407\n",
       "race                             0\n",
       "sex                              0\n",
       "income_level                  4423\n",
       "marital_status                1408\n",
       "housing_status                2042\n",
       "employment                    1463\n",
       "census_msa                       0\n",
       "no_of_adults                   249\n",
       "no_of_children                 249\n",
       "h1n1_vaccine                     0\n",
       "dtype: int64"
      ]
     },
     "execution_count": 36,
     "metadata": {},
     "output_type": "execute_result"
    }
   ],
   "source": [
    "df.isnull().sum()"
   ]
  },
  {
   "cell_type": "code",
   "execution_count": 37,
   "id": "58ce9fa1",
   "metadata": {},
   "outputs": [
    {
     "data": {
      "text/plain": [
       "0.0    17644\n",
       "1.0     8981\n",
       "Name: reduced_outside_home_cont, dtype: int64"
      ]
     },
     "execution_count": 37,
     "metadata": {},
     "output_type": "execute_result"
    }
   ],
   "source": [
    "df[\"reduced_outside_home_cont\"].value_counts()"
   ]
  },
  {
   "cell_type": "code",
   "execution_count": 38,
   "id": "34d764d8",
   "metadata": {},
   "outputs": [],
   "source": [
    "df[\"reduced_outside_home_cont\"] = df[\"reduced_outside_home_cont\"].fillna(value=df[\"reduced_outside_home_cont\"].median())"
   ]
  },
  {
   "cell_type": "code",
   "execution_count": 39,
   "id": "ddbbdc41",
   "metadata": {},
   "outputs": [
    {
     "data": {
      "text/plain": [
       "0"
      ]
     },
     "execution_count": 39,
     "metadata": {},
     "output_type": "execute_result"
    }
   ],
   "source": [
    "df[\"reduced_outside_home_cont\"].isnull().sum()"
   ]
  },
  {
   "cell_type": "code",
   "execution_count": 40,
   "id": "3b45ccba",
   "metadata": {},
   "outputs": [
    {
     "data": {
      "text/plain": [
       "1.0    18001\n",
       "0.0     8578\n",
       "Name: avoid_touch_face, dtype: int64"
      ]
     },
     "execution_count": 40,
     "metadata": {},
     "output_type": "execute_result"
    }
   ],
   "source": [
    "df[\"avoid_touch_face\"].value_counts()"
   ]
  },
  {
   "cell_type": "code",
   "execution_count": 41,
   "id": "187ae1a1",
   "metadata": {},
   "outputs": [],
   "source": [
    "df[\"avoid_touch_face\"] = df[\"avoid_touch_face\"].fillna(value=1)"
   ]
  },
  {
   "cell_type": "code",
   "execution_count": 42,
   "id": "5e879601",
   "metadata": {},
   "outputs": [
    {
     "data": {
      "text/plain": [
       "unique_id                        0\n",
       "h1n1_worry                       0\n",
       "h1n1_awareness                   0\n",
       "antiviral_medication             0\n",
       "contact_avoidance                0\n",
       "bought_face_mask                 0\n",
       "wash_hands_frequently            0\n",
       "avoid_large_gatherings           0\n",
       "reduced_outside_home_cont        0\n",
       "avoid_touch_face                 0\n",
       "dr_recc_h1n1_vacc             2160\n",
       "dr_recc_seasonal_vacc         2160\n",
       "chronic_medic_condition        971\n",
       "cont_child_undr_6_mnths        820\n",
       "is_health_worker               804\n",
       "has_health_insur             12274\n",
       "is_h1n1_vacc_effective         391\n",
       "is_h1n1_risky                  388\n",
       "sick_from_h1n1_vacc            395\n",
       "is_seas_vacc_effective         462\n",
       "is_seas_risky                  514\n",
       "sick_from_seas_vacc            537\n",
       "age_bracket                      0\n",
       "qualification                 1407\n",
       "race                             0\n",
       "sex                              0\n",
       "income_level                  4423\n",
       "marital_status                1408\n",
       "housing_status                2042\n",
       "employment                    1463\n",
       "census_msa                       0\n",
       "no_of_adults                   249\n",
       "no_of_children                 249\n",
       "h1n1_vaccine                     0\n",
       "dtype: int64"
      ]
     },
     "execution_count": 42,
     "metadata": {},
     "output_type": "execute_result"
    }
   ],
   "source": [
    "df.isnull().sum()"
   ]
  },
  {
   "cell_type": "code",
   "execution_count": 43,
   "id": "bb38caad",
   "metadata": {},
   "outputs": [
    {
     "data": {
      "text/plain": [
       "0.0    19139\n",
       "1.0     5408\n",
       "Name: dr_recc_h1n1_vacc, dtype: int64"
      ]
     },
     "execution_count": 43,
     "metadata": {},
     "output_type": "execute_result"
    }
   ],
   "source": [
    "df[\"dr_recc_h1n1_vacc\"].value_counts()"
   ]
  },
  {
   "cell_type": "markdown",
   "id": "b604fefb",
   "metadata": {},
   "source": [
    "Doctor has recommended h1n1 vaccine - (0,1)  0:No, 1:Yes"
   ]
  },
  {
   "cell_type": "code",
   "execution_count": 44,
   "id": "efa563d9",
   "metadata": {},
   "outputs": [],
   "source": [
    "df[\"dr_recc_h1n1_vacc\"] = df[\"dr_recc_h1n1_vacc\"].fillna(value=df[\"dr_recc_h1n1_vacc\"].median())\n"
   ]
  },
  {
   "cell_type": "code",
   "execution_count": 45,
   "id": "56594e94",
   "metadata": {},
   "outputs": [
    {
     "data": {
      "text/plain": [
       "0.0    16453\n",
       "1.0     8094\n",
       "Name: dr_recc_seasonal_vacc, dtype: int64"
      ]
     },
     "execution_count": 45,
     "metadata": {},
     "output_type": "execute_result"
    }
   ],
   "source": [
    "df[\"dr_recc_seasonal_vacc\"].value_counts()"
   ]
  },
  {
   "cell_type": "code",
   "execution_count": 46,
   "id": "54aa129f",
   "metadata": {},
   "outputs": [],
   "source": [
    "df[\"dr_recc_seasonal_vacc\"]=df[\"dr_recc_seasonal_vacc\"].fillna(value=df[\"dr_recc_seasonal_vacc\"].median())"
   ]
  },
  {
   "cell_type": "markdown",
   "id": "77edf5b6",
   "metadata": {},
   "source": [
    "dr_recc_seasonal_vacc\tThe doctor has recommended seasonalflu vaccine -(0,1)"
   ]
  },
  {
   "cell_type": "code",
   "execution_count": 47,
   "id": "d2a62ff2",
   "metadata": {},
   "outputs": [
    {
     "data": {
      "text/plain": [
       "0.0    18446\n",
       "1.0     7290\n",
       "Name: chronic_medic_condition, dtype: int64"
      ]
     },
     "execution_count": 47,
     "metadata": {},
     "output_type": "execute_result"
    }
   ],
   "source": [
    "df[\"chronic_medic_condition\"].value_counts()"
   ]
  },
  {
   "cell_type": "code",
   "execution_count": 48,
   "id": "a9da13ad",
   "metadata": {},
   "outputs": [
    {
     "data": {
      "text/plain": [
       "971"
      ]
     },
     "execution_count": 48,
     "metadata": {},
     "output_type": "execute_result"
    }
   ],
   "source": [
    "df[\"chronic_medic_condition\"].isnull().sum()"
   ]
  },
  {
   "cell_type": "code",
   "execution_count": 49,
   "id": "15d12e09",
   "metadata": {},
   "outputs": [],
   "source": [
    "df[\"chronic_medic_condition\"] =df[\"chronic_medic_condition\"].fillna(value=0)"
   ]
  },
  {
   "cell_type": "code",
   "execution_count": 50,
   "id": "aeb590e1",
   "metadata": {},
   "outputs": [
    {
     "data": {
      "text/plain": [
       "unique_id                        0\n",
       "h1n1_worry                       0\n",
       "h1n1_awareness                   0\n",
       "antiviral_medication             0\n",
       "contact_avoidance                0\n",
       "bought_face_mask                 0\n",
       "wash_hands_frequently            0\n",
       "avoid_large_gatherings           0\n",
       "reduced_outside_home_cont        0\n",
       "avoid_touch_face                 0\n",
       "dr_recc_h1n1_vacc                0\n",
       "dr_recc_seasonal_vacc            0\n",
       "chronic_medic_condition          0\n",
       "cont_child_undr_6_mnths        820\n",
       "is_health_worker               804\n",
       "has_health_insur             12274\n",
       "is_h1n1_vacc_effective         391\n",
       "is_h1n1_risky                  388\n",
       "sick_from_h1n1_vacc            395\n",
       "is_seas_vacc_effective         462\n",
       "is_seas_risky                  514\n",
       "sick_from_seas_vacc            537\n",
       "age_bracket                      0\n",
       "qualification                 1407\n",
       "race                             0\n",
       "sex                              0\n",
       "income_level                  4423\n",
       "marital_status                1408\n",
       "housing_status                2042\n",
       "employment                    1463\n",
       "census_msa                       0\n",
       "no_of_adults                   249\n",
       "no_of_children                 249\n",
       "h1n1_vaccine                     0\n",
       "dtype: int64"
      ]
     },
     "execution_count": 50,
     "metadata": {},
     "output_type": "execute_result"
    }
   ],
   "source": [
    "df.isnull().sum()"
   ]
  },
  {
   "cell_type": "code",
   "execution_count": 51,
   "id": "0294124d",
   "metadata": {},
   "outputs": [
    {
     "data": {
      "text/plain": [
       "0.0    23749\n",
       "1.0     2138\n",
       "Name: cont_child_undr_6_mnths, dtype: int64"
      ]
     },
     "execution_count": 51,
     "metadata": {},
     "output_type": "execute_result"
    }
   ],
   "source": [
    "df[\"cont_child_undr_6_mnths\"].value_counts()"
   ]
  },
  {
   "cell_type": "code",
   "execution_count": 52,
   "id": "29359764",
   "metadata": {},
   "outputs": [],
   "source": [
    "df[\"cont_child_undr_6_mnths\"]=df[\"cont_child_undr_6_mnths\"].fillna(value=df[\"cont_child_undr_6_mnths\"].median())"
   ]
  },
  {
   "cell_type": "code",
   "execution_count": 53,
   "id": "49ac46db",
   "metadata": {},
   "outputs": [
    {
     "data": {
      "text/plain": [
       "0.0    23004\n",
       "1.0     2899\n",
       "Name: is_health_worker, dtype: int64"
      ]
     },
     "execution_count": 53,
     "metadata": {},
     "output_type": "execute_result"
    }
   ],
   "source": [
    "df[\"is_health_worker\"].value_counts()"
   ]
  },
  {
   "cell_type": "code",
   "execution_count": 54,
   "id": "b29d0895",
   "metadata": {},
   "outputs": [],
   "source": [
    "df[\"is_health_worker\"]=df[\"is_health_worker\"].fillna(value=df[\"is_health_worker\"].median())"
   ]
  },
  {
   "cell_type": "code",
   "execution_count": 55,
   "id": "f48300df",
   "metadata": {},
   "outputs": [
    {
     "data": {
      "text/plain": [
       "1.0    12697\n",
       "NaN    12274\n",
       "0.0     1736\n",
       "Name: has_health_insur, dtype: int64"
      ]
     },
     "execution_count": 55,
     "metadata": {},
     "output_type": "execute_result"
    }
   ],
   "source": [
    "df[\"has_health_insur\"].value_counts(dropna=False)"
   ]
  },
  {
   "cell_type": "code",
   "execution_count": 56,
   "id": "f931ce13",
   "metadata": {},
   "outputs": [],
   "source": [
    "df[\"has_health_insur\"] = df[\"has_health_insur\"].fillna(value=0)"
   ]
  },
  {
   "cell_type": "code",
   "execution_count": 57,
   "id": "3fedfb17",
   "metadata": {},
   "outputs": [
    {
     "data": {
      "text/plain": [
       "unique_id                       0\n",
       "h1n1_worry                      0\n",
       "h1n1_awareness                  0\n",
       "antiviral_medication            0\n",
       "contact_avoidance               0\n",
       "bought_face_mask                0\n",
       "wash_hands_frequently           0\n",
       "avoid_large_gatherings          0\n",
       "reduced_outside_home_cont       0\n",
       "avoid_touch_face                0\n",
       "dr_recc_h1n1_vacc               0\n",
       "dr_recc_seasonal_vacc           0\n",
       "chronic_medic_condition         0\n",
       "cont_child_undr_6_mnths         0\n",
       "is_health_worker                0\n",
       "has_health_insur                0\n",
       "is_h1n1_vacc_effective        391\n",
       "is_h1n1_risky                 388\n",
       "sick_from_h1n1_vacc           395\n",
       "is_seas_vacc_effective        462\n",
       "is_seas_risky                 514\n",
       "sick_from_seas_vacc           537\n",
       "age_bracket                     0\n",
       "qualification                1407\n",
       "race                            0\n",
       "sex                             0\n",
       "income_level                 4423\n",
       "marital_status               1408\n",
       "housing_status               2042\n",
       "employment                   1463\n",
       "census_msa                      0\n",
       "no_of_adults                  249\n",
       "no_of_children                249\n",
       "h1n1_vaccine                    0\n",
       "dtype: int64"
      ]
     },
     "execution_count": 57,
     "metadata": {},
     "output_type": "execute_result"
    }
   ],
   "source": [
    "df.isnull().sum()"
   ]
  },
  {
   "cell_type": "code",
   "execution_count": 58,
   "id": "b1f3c3b0",
   "metadata": {},
   "outputs": [
    {
     "data": {
      "text/plain": [
       "4.0    11683\n",
       "5.0     7166\n",
       "3.0     4723\n",
       "2.0     1858\n",
       "1.0      886\n",
       "NaN      391\n",
       "Name: is_h1n1_vacc_effective, dtype: int64"
      ]
     },
     "execution_count": 58,
     "metadata": {},
     "output_type": "execute_result"
    }
   ],
   "source": [
    "df[\"is_h1n1_vacc_effective\"].value_counts(dropna=False)"
   ]
  },
  {
   "cell_type": "markdown",
   "id": "9f5db2f1",
   "metadata": {},
   "source": [
    "Does respondent think that the h1n1 vaccine is effective - (1,2,3,4,5)- (1=Thinks not effective at all, 2=Thinks it is not very effective, 3=Doesn't know if it is effective or not, 4=Thinks it is somewhat effective, 5=Thinks it is highly effective)"
   ]
  },
  {
   "cell_type": "code",
   "execution_count": 59,
   "id": "39d2ecf6",
   "metadata": {},
   "outputs": [],
   "source": [
    "df[\"is_h1n1_vacc_effective\"] = df[\"is_h1n1_vacc_effective\"].fillna(value=3)"
   ]
  },
  {
   "cell_type": "code",
   "execution_count": 60,
   "id": "f09cf9fd",
   "metadata": {},
   "outputs": [
    {
     "data": {
      "text/plain": [
       "4.0    11683\n",
       "5.0     7166\n",
       "3.0     5114\n",
       "2.0     1858\n",
       "1.0      886\n",
       "Name: is_h1n1_vacc_effective, dtype: int64"
      ]
     },
     "execution_count": 60,
     "metadata": {},
     "output_type": "execute_result"
    }
   ],
   "source": [
    "df[\"is_h1n1_vacc_effective\"].value_counts(dropna=False)"
   ]
  },
  {
   "cell_type": "code",
   "execution_count": 61,
   "id": "c8ff848a",
   "metadata": {},
   "outputs": [
    {
     "data": {
      "text/plain": [
       "2.0    9919\n",
       "1.0    8139\n",
       "4.0    5394\n",
       "5.0    1750\n",
       "3.0    1117\n",
       "NaN     388\n",
       "Name: is_h1n1_risky, dtype: int64"
      ]
     },
     "execution_count": 61,
     "metadata": {},
     "output_type": "execute_result"
    }
   ],
   "source": [
    "df[\"is_h1n1_risky\"].value_counts(dropna=False)"
   ]
  },
  {
   "cell_type": "markdown",
   "id": "677ffbcc",
   "metadata": {},
   "source": [
    "What respondents think about the risk of getting illwith h1n1 in the absence of the vaccine- (1,2,3,4,5)-(1=Thinks it is not very low risk, 2=Thinks it is somewhat low risk, 3=don’t know if it is risky or not, 4=Thinks it is a somewhat high risk, 5=Thinks it is very highly risky)"
   ]
  },
  {
   "cell_type": "code",
   "execution_count": 62,
   "id": "b529e9a0",
   "metadata": {},
   "outputs": [],
   "source": [
    "df[\"is_h1n1_risky\"]=df[\"is_h1n1_risky\"].fillna(value=3)"
   ]
  },
  {
   "cell_type": "code",
   "execution_count": 63,
   "id": "6908a355",
   "metadata": {},
   "outputs": [
    {
     "data": {
      "text/plain": [
       "2.0    9919\n",
       "1.0    8139\n",
       "4.0    5394\n",
       "5.0    1750\n",
       "3.0    1505\n",
       "Name: is_h1n1_risky, dtype: int64"
      ]
     },
     "execution_count": 63,
     "metadata": {},
     "output_type": "execute_result"
    }
   ],
   "source": [
    "df[\"is_h1n1_risky\"].value_counts(dropna=False)"
   ]
  },
  {
   "cell_type": "code",
   "execution_count": 64,
   "id": "dca9df08",
   "metadata": {},
   "outputs": [
    {
     "data": {
      "text/plain": [
       "unique_id                       0\n",
       "h1n1_worry                      0\n",
       "h1n1_awareness                  0\n",
       "antiviral_medication            0\n",
       "contact_avoidance               0\n",
       "bought_face_mask                0\n",
       "wash_hands_frequently           0\n",
       "avoid_large_gatherings          0\n",
       "reduced_outside_home_cont       0\n",
       "avoid_touch_face                0\n",
       "dr_recc_h1n1_vacc               0\n",
       "dr_recc_seasonal_vacc           0\n",
       "chronic_medic_condition         0\n",
       "cont_child_undr_6_mnths         0\n",
       "is_health_worker                0\n",
       "has_health_insur                0\n",
       "is_h1n1_vacc_effective          0\n",
       "is_h1n1_risky                   0\n",
       "sick_from_h1n1_vacc           395\n",
       "is_seas_vacc_effective        462\n",
       "is_seas_risky                 514\n",
       "sick_from_seas_vacc           537\n",
       "age_bracket                     0\n",
       "qualification                1407\n",
       "race                            0\n",
       "sex                             0\n",
       "income_level                 4423\n",
       "marital_status               1408\n",
       "housing_status               2042\n",
       "employment                   1463\n",
       "census_msa                      0\n",
       "no_of_adults                  249\n",
       "no_of_children                249\n",
       "h1n1_vaccine                    0\n",
       "dtype: int64"
      ]
     },
     "execution_count": 64,
     "metadata": {},
     "output_type": "execute_result"
    }
   ],
   "source": [
    "df.isnull().sum()"
   ]
  },
  {
   "cell_type": "code",
   "execution_count": 65,
   "id": "8bac8e0b",
   "metadata": {},
   "outputs": [
    {
     "data": {
      "text/plain": [
       "2.0    9129\n",
       "1.0    8998\n",
       "4.0    5850\n",
       "5.0    2187\n",
       "NaN     395\n",
       "3.0     148\n",
       "Name: sick_from_h1n1_vacc, dtype: int64"
      ]
     },
     "execution_count": 65,
     "metadata": {},
     "output_type": "execute_result"
    }
   ],
   "source": [
    "df[\"sick_from_h1n1_vacc\"].value_counts(dropna=False)"
   ]
  },
  {
   "cell_type": "markdown",
   "id": "27a22daf",
   "metadata": {},
   "source": [
    "Does respondent worry about getting sick by taking the h1n1 vaccine - (1,2,3,4,5)- (1=Respondent not worried at all, 2=Respondent is not very worried,3=Doesn't know, 4=Respondent is somewhat worried,5Respondent is very worried) "
   ]
  },
  {
   "cell_type": "code",
   "execution_count": 66,
   "id": "490c5937",
   "metadata": {},
   "outputs": [],
   "source": [
    "df[\"sick_from_h1n1_vacc\"] = df[\"sick_from_h1n1_vacc\"].fillna(value=3)"
   ]
  },
  {
   "cell_type": "code",
   "execution_count": 67,
   "id": "fb0be3f6",
   "metadata": {},
   "outputs": [
    {
     "data": {
      "text/plain": [
       "unique_id                       0\n",
       "h1n1_worry                      0\n",
       "h1n1_awareness                  0\n",
       "antiviral_medication            0\n",
       "contact_avoidance               0\n",
       "bought_face_mask                0\n",
       "wash_hands_frequently           0\n",
       "avoid_large_gatherings          0\n",
       "reduced_outside_home_cont       0\n",
       "avoid_touch_face                0\n",
       "dr_recc_h1n1_vacc               0\n",
       "dr_recc_seasonal_vacc           0\n",
       "chronic_medic_condition         0\n",
       "cont_child_undr_6_mnths         0\n",
       "is_health_worker                0\n",
       "has_health_insur                0\n",
       "is_h1n1_vacc_effective          0\n",
       "is_h1n1_risky                   0\n",
       "sick_from_h1n1_vacc             0\n",
       "is_seas_vacc_effective        462\n",
       "is_seas_risky                 514\n",
       "sick_from_seas_vacc           537\n",
       "age_bracket                     0\n",
       "qualification                1407\n",
       "race                            0\n",
       "sex                             0\n",
       "income_level                 4423\n",
       "marital_status               1408\n",
       "housing_status               2042\n",
       "employment                   1463\n",
       "census_msa                      0\n",
       "no_of_adults                  249\n",
       "no_of_children                249\n",
       "h1n1_vaccine                    0\n",
       "dtype: int64"
      ]
     },
     "execution_count": 67,
     "metadata": {},
     "output_type": "execute_result"
    }
   ],
   "source": [
    "df.isnull().sum()"
   ]
  },
  {
   "cell_type": "code",
   "execution_count": 68,
   "id": "c2516fa8",
   "metadata": {},
   "outputs": [
    {
     "data": {
      "text/plain": [
       "4.0    11629\n",
       "5.0     9973\n",
       "2.0     2206\n",
       "1.0     1221\n",
       "3.0     1216\n",
       "NaN      462\n",
       "Name: is_seas_vacc_effective, dtype: int64"
      ]
     },
     "execution_count": 68,
     "metadata": {},
     "output_type": "execute_result"
    }
   ],
   "source": [
    "df[\"is_seas_vacc_effective\"].value_counts(dropna=False)"
   ]
  },
  {
   "cell_type": "markdown",
   "id": "ee3b1f9a",
   "metadata": {},
   "source": [
    "Does respondent think that the seasonal vaccine is effective- (1,2,3,4,5)- (1=Thinks not effective at all, 2=Thinks it is not very effective, 3=Doesn't know if it is effective or not, 4=Thinks it is somewhat effective,5=Thinks it is highly effective."
   ]
  },
  {
   "cell_type": "code",
   "execution_count": 69,
   "id": "51a16294",
   "metadata": {},
   "outputs": [],
   "source": [
    "df[\"is_seas_vacc_effective\"]=df[\"is_seas_vacc_effective\"].fi llna(value=3)"
   ]
  },
  {
   "cell_type": "code",
   "execution_count": 70,
   "id": "5ff737ac",
   "metadata": {},
   "outputs": [
    {
     "data": {
      "text/plain": [
       "College Graduate    10097\n",
       "Some College         7043\n",
       "12 Years             5797\n",
       "< 12 Years           2363\n",
       "NaN                  1407\n",
       "Name: qualification, dtype: int64"
      ]
     },
     "execution_count": 70,
     "metadata": {},
     "output_type": "execute_result"
    }
   ],
   "source": [
    "df[\"qualification\"].value_counts(dropna=False)"
   ]
  },
  {
   "cell_type": "code",
   "execution_count": 71,
   "id": "474f8836",
   "metadata": {},
   "outputs": [],
   "source": [
    "df[\"qualification\"] = df[\"qualification\"].fillna(value=\"Other\")"
   ]
  },
  {
   "cell_type": "code",
   "execution_count": 72,
   "id": "13e2c69f",
   "metadata": {},
   "outputs": [
    {
     "data": {
      "text/plain": [
       "College Graduate    10097\n",
       "Some College         7043\n",
       "12 Years             5797\n",
       "< 12 Years           2363\n",
       "Other                1407\n",
       "Name: qualification, dtype: int64"
      ]
     },
     "execution_count": 72,
     "metadata": {},
     "output_type": "execute_result"
    }
   ],
   "source": [
    "df[\"qualification\"].value_counts(dropna=False)"
   ]
  },
  {
   "cell_type": "code",
   "execution_count": 73,
   "id": "b443b59a",
   "metadata": {},
   "outputs": [
    {
     "data": {
      "text/plain": [
       "<= $75,000, Above Poverty    12777\n",
       "> $75,000                     6810\n",
       "NaN                           4423\n",
       "Below Poverty                 2697\n",
       "Name: income_level, dtype: int64"
      ]
     },
     "execution_count": 73,
     "metadata": {},
     "output_type": "execute_result"
    }
   ],
   "source": [
    "df[\"income_level\"].value_counts(dropna=False)"
   ]
  },
  {
   "cell_type": "code",
   "execution_count": 74,
   "id": "25063f21",
   "metadata": {},
   "outputs": [],
   "source": [
    "df[\"income_level\"] = df[\"income_level\"].fillna(value=\"Other\")"
   ]
  },
  {
   "cell_type": "code",
   "execution_count": 75,
   "id": "849618e9",
   "metadata": {},
   "outputs": [
    {
     "data": {
      "text/plain": [
       "<= $75,000, Above Poverty    12777\n",
       "> $75,000                     6810\n",
       "Other                         4423\n",
       "Below Poverty                 2697\n",
       "Name: income_level, dtype: int64"
      ]
     },
     "execution_count": 75,
     "metadata": {},
     "output_type": "execute_result"
    }
   ],
   "source": [
    "df[\"income_level\"].value_counts(dropna=False)"
   ]
  },
  {
   "cell_type": "code",
   "execution_count": 76,
   "id": "b7703f7a",
   "metadata": {},
   "outputs": [],
   "source": [
    "# from autoviz.AutoViz_Class import AutoViz_Class\n",
    "# AV=AutoViz_Class()\n",
    "# AV.AutoViz(r\"D:\\Training\\Imarticus\\PGA\\PGA14\\Vaccine Usage Prediction\\Dataset\\h1n1_vaccine_prediction.csv\")\n"
   ]
  },
  {
   "cell_type": "code",
   "execution_count": 77,
   "id": "03e784cd",
   "metadata": {},
   "outputs": [
    {
     "data": {
      "text/plain": [
       "Married        13555\n",
       "Not Married    11744\n",
       "NaN             1408\n",
       "Name: marital_status, dtype: int64"
      ]
     },
     "execution_count": 77,
     "metadata": {},
     "output_type": "execute_result"
    }
   ],
   "source": [
    "df[\"marital_status\"].value_counts(dropna=False)"
   ]
  },
  {
   "cell_type": "code",
   "execution_count": 78,
   "id": "db280266",
   "metadata": {},
   "outputs": [],
   "source": [
    "df[\"marital_status\"]=df[\"marital_status\"].fillna(value=\"Other\")"
   ]
  },
  {
   "cell_type": "code",
   "execution_count": 79,
   "id": "9f6d8972",
   "metadata": {},
   "outputs": [
    {
     "data": {
      "text/plain": [
       "unique_id                       0\n",
       "h1n1_worry                      0\n",
       "h1n1_awareness                  0\n",
       "antiviral_medication            0\n",
       "contact_avoidance               0\n",
       "bought_face_mask                0\n",
       "wash_hands_frequently           0\n",
       "avoid_large_gatherings          0\n",
       "reduced_outside_home_cont       0\n",
       "avoid_touch_face                0\n",
       "dr_recc_h1n1_vacc               0\n",
       "dr_recc_seasonal_vacc           0\n",
       "chronic_medic_condition         0\n",
       "cont_child_undr_6_mnths         0\n",
       "is_health_worker                0\n",
       "has_health_insur                0\n",
       "is_h1n1_vacc_effective          0\n",
       "is_h1n1_risky                   0\n",
       "sick_from_h1n1_vacc             0\n",
       "is_seas_vacc_effective          0\n",
       "is_seas_risky                 514\n",
       "sick_from_seas_vacc           537\n",
       "age_bracket                     0\n",
       "qualification                   0\n",
       "race                            0\n",
       "sex                             0\n",
       "income_level                    0\n",
       "marital_status                  0\n",
       "housing_status               2042\n",
       "employment                   1463\n",
       "census_msa                      0\n",
       "no_of_adults                  249\n",
       "no_of_children                249\n",
       "h1n1_vaccine                    0\n",
       "dtype: int64"
      ]
     },
     "execution_count": 79,
     "metadata": {},
     "output_type": "execute_result"
    }
   ],
   "source": [
    "df.isnull().sum()"
   ]
  },
  {
   "cell_type": "code",
   "execution_count": 80,
   "id": "cf0b8ccb",
   "metadata": {},
   "outputs": [
    {
     "data": {
      "text/plain": [
       "2.0    8954\n",
       "4.0    7630\n",
       "1.0    5974\n",
       "5.0    2958\n",
       "3.0     677\n",
       "NaN     514\n",
       "Name: is_seas_risky, dtype: int64"
      ]
     },
     "execution_count": 80,
     "metadata": {},
     "output_type": "execute_result"
    }
   ],
   "source": [
    "df[\"is_seas_risky\"].value_counts(dropna=False)"
   ]
  },
  {
   "cell_type": "markdown",
   "id": "d85566b1",
   "metadata": {},
   "source": [
    "What respondenst think about the risk of getting ill with seasonal flu in the absence of the vaccine- (1,2,3,4,5)- (1=Thinks it is not very low risk, 2=Thinks it is somewhat low risk, 3=Doesn't know if it is risky or not, 4=Thinks it is somewhat high risk, 5=Thinks it is very highly risky)"
   ]
  },
  {
   "cell_type": "code",
   "execution_count": 81,
   "id": "63892985",
   "metadata": {},
   "outputs": [],
   "source": [
    "df[\"is_seas_risky\"] = df[\"is_seas_risky\"].fillna(value=3)"
   ]
  },
  {
   "cell_type": "code",
   "execution_count": 82,
   "id": "6588992b",
   "metadata": {},
   "outputs": [
    {
     "data": {
      "text/plain": [
       "1.0    11870\n",
       "2.0     7633\n",
       "4.0     4852\n",
       "5.0     1721\n",
       "NaN      537\n",
       "3.0       94\n",
       "Name: sick_from_seas_vacc, dtype: int64"
      ]
     },
     "execution_count": 82,
     "metadata": {},
     "output_type": "execute_result"
    }
   ],
   "source": [
    "df[\"sick_from_seas_vacc\"].value_counts(dropna=False)"
   ]
  },
  {
   "cell_type": "markdown",
   "id": "a41262d1",
   "metadata": {},
   "source": [
    "Does respondent worry about getting sick by taking the seasonal flu vaccine - (1,2,3,4,5)- (1=Respondent not worried at all, 2=Respondent is not very worried,3=Doesn't know, 4=Respondent is somewhat worried, 5=Respondent is very worried)"
   ]
  },
  {
   "cell_type": "code",
   "execution_count": 83,
   "id": "e79db953",
   "metadata": {},
   "outputs": [],
   "source": [
    "df[\"sick_from_seas_vacc\"] = df[\"sick_from_seas_vacc\"].fillna(value=3)"
   ]
  },
  {
   "cell_type": "code",
   "execution_count": 84,
   "id": "adc334e0",
   "metadata": {},
   "outputs": [
    {
     "data": {
      "text/plain": [
       "unique_id                       0\n",
       "h1n1_worry                      0\n",
       "h1n1_awareness                  0\n",
       "antiviral_medication            0\n",
       "contact_avoidance               0\n",
       "bought_face_mask                0\n",
       "wash_hands_frequently           0\n",
       "avoid_large_gatherings          0\n",
       "reduced_outside_home_cont       0\n",
       "avoid_touch_face                0\n",
       "dr_recc_h1n1_vacc               0\n",
       "dr_recc_seasonal_vacc           0\n",
       "chronic_medic_condition         0\n",
       "cont_child_undr_6_mnths         0\n",
       "is_health_worker                0\n",
       "has_health_insur                0\n",
       "is_h1n1_vacc_effective          0\n",
       "is_h1n1_risky                   0\n",
       "sick_from_h1n1_vacc             0\n",
       "is_seas_vacc_effective          0\n",
       "is_seas_risky                   0\n",
       "sick_from_seas_vacc             0\n",
       "age_bracket                     0\n",
       "qualification                   0\n",
       "race                            0\n",
       "sex                             0\n",
       "income_level                    0\n",
       "marital_status                  0\n",
       "housing_status               2042\n",
       "employment                   1463\n",
       "census_msa                      0\n",
       "no_of_adults                  249\n",
       "no_of_children                249\n",
       "h1n1_vaccine                    0\n",
       "dtype: int64"
      ]
     },
     "execution_count": 84,
     "metadata": {},
     "output_type": "execute_result"
    }
   ],
   "source": [
    "df.isnull().sum()"
   ]
  },
  {
   "cell_type": "code",
   "execution_count": 85,
   "id": "6f39f40e",
   "metadata": {},
   "outputs": [
    {
     "data": {
      "text/plain": [
       "Own     18736\n",
       "Rent     5929\n",
       "NaN      2042\n",
       "Name: housing_status, dtype: int64"
      ]
     },
     "execution_count": 85,
     "metadata": {},
     "output_type": "execute_result"
    }
   ],
   "source": [
    "df[\"housing_status\"].value_counts(dropna=False)"
   ]
  },
  {
   "cell_type": "code",
   "execution_count": 86,
   "id": "d0843e18",
   "metadata": {},
   "outputs": [],
   "source": [
    "df[\"housing_status\"] = df[\"housing_status\"].fillna(value=\"Other\")"
   ]
  },
  {
   "cell_type": "code",
   "execution_count": 87,
   "id": "45d36257",
   "metadata": {},
   "outputs": [
    {
     "data": {
      "text/plain": [
       "Own      18736\n",
       "Rent      5929\n",
       "Other     2042\n",
       "Name: housing_status, dtype: int64"
      ]
     },
     "execution_count": 87,
     "metadata": {},
     "output_type": "execute_result"
    }
   ],
   "source": [
    "df[\"housing_status\"].value_counts(dropna=False)"
   ]
  },
  {
   "cell_type": "code",
   "execution_count": 88,
   "id": "a95cea7c",
   "metadata": {},
   "outputs": [
    {
     "data": {
      "text/plain": [
       "Employed              13560\n",
       "Not in Labor Force    10231\n",
       "NaN                    1463\n",
       "Unemployed             1453\n",
       "Name: employment, dtype: int64"
      ]
     },
     "execution_count": 88,
     "metadata": {},
     "output_type": "execute_result"
    }
   ],
   "source": [
    "df[\"employment\"].value_counts(dropna=False)"
   ]
  },
  {
   "cell_type": "code",
   "execution_count": 89,
   "id": "4ac23771",
   "metadata": {},
   "outputs": [],
   "source": [
    "df[\"employment\"] = df[\"employment\"].fillna(value=\"Other\")"
   ]
  },
  {
   "cell_type": "code",
   "execution_count": 90,
   "id": "4db92b75",
   "metadata": {},
   "outputs": [
    {
     "data": {
      "text/plain": [
       "Employed              13560\n",
       "Not in Labor Force    10231\n",
       "Other                  1463\n",
       "Unemployed             1453\n",
       "Name: employment, dtype: int64"
      ]
     },
     "execution_count": 90,
     "metadata": {},
     "output_type": "execute_result"
    }
   ],
   "source": [
    "df[\"employment\"].value_counts(dropna=False)"
   ]
  },
  {
   "cell_type": "code",
   "execution_count": 91,
   "id": "5ebcab3b",
   "metadata": {},
   "outputs": [
    {
     "data": {
      "text/plain": [
       "1.0    14474\n",
       "0.0     8056\n",
       "2.0     2803\n",
       "3.0     1125\n",
       "NaN      249\n",
       "Name: no_of_adults, dtype: int64"
      ]
     },
     "execution_count": 91,
     "metadata": {},
     "output_type": "execute_result"
    }
   ],
   "source": [
    "df[\"no_of_adults\"].value_counts(dropna=False)"
   ]
  },
  {
   "cell_type": "code",
   "execution_count": 92,
   "id": "5ca7f7cd",
   "metadata": {},
   "outputs": [],
   "source": [
    "df[\"no_of_adults\"]=df[\"no_of_adults\"].fillna(value=df[\"no_of_adults\"].median())"
   ]
  },
  {
   "cell_type": "code",
   "execution_count": 93,
   "id": "b1e4f5b9",
   "metadata": {},
   "outputs": [
    {
     "data": {
      "text/plain": [
       "0.0    18672\n",
       "1.0     3175\n",
       "2.0     2864\n",
       "3.0     1747\n",
       "NaN      249\n",
       "Name: no_of_children, dtype: int64"
      ]
     },
     "execution_count": 93,
     "metadata": {},
     "output_type": "execute_result"
    }
   ],
   "source": [
    "df[\"no_of_children\"].value_counts(dropna=False)"
   ]
  },
  {
   "cell_type": "code",
   "execution_count": 94,
   "id": "42fcd7bf",
   "metadata": {},
   "outputs": [],
   "source": [
    "df[\"no_of_children\"] = df[\"no_of_children\"].fillna(value=df[\"no_of_children\"].median())"
   ]
  },
  {
   "cell_type": "code",
   "execution_count": 95,
   "id": "bd8ce04a",
   "metadata": {},
   "outputs": [
    {
     "data": {
      "text/plain": [
       "unique_id                    0\n",
       "h1n1_worry                   0\n",
       "h1n1_awareness               0\n",
       "antiviral_medication         0\n",
       "contact_avoidance            0\n",
       "bought_face_mask             0\n",
       "wash_hands_frequently        0\n",
       "avoid_large_gatherings       0\n",
       "reduced_outside_home_cont    0\n",
       "avoid_touch_face             0\n",
       "dr_recc_h1n1_vacc            0\n",
       "dr_recc_seasonal_vacc        0\n",
       "chronic_medic_condition      0\n",
       "cont_child_undr_6_mnths      0\n",
       "is_health_worker             0\n",
       "has_health_insur             0\n",
       "is_h1n1_vacc_effective       0\n",
       "is_h1n1_risky                0\n",
       "sick_from_h1n1_vacc          0\n",
       "is_seas_vacc_effective       0\n",
       "is_seas_risky                0\n",
       "sick_from_seas_vacc          0\n",
       "age_bracket                  0\n",
       "qualification                0\n",
       "race                         0\n",
       "sex                          0\n",
       "income_level                 0\n",
       "marital_status               0\n",
       "housing_status               0\n",
       "employment                   0\n",
       "census_msa                   0\n",
       "no_of_adults                 0\n",
       "no_of_children               0\n",
       "h1n1_vaccine                 0\n",
       "dtype: int64"
      ]
     },
     "execution_count": 95,
     "metadata": {},
     "output_type": "execute_result"
    }
   ],
   "source": [
    "df.isnull().sum()"
   ]
  },
  {
   "cell_type": "markdown",
   "id": "d35dd0ca",
   "metadata": {},
   "source": [
    "#### All the null Values have been treated personally."
   ]
  },
  {
   "cell_type": "code",
   "execution_count": 96,
   "id": "486e07ac",
   "metadata": {},
   "outputs": [
    {
     "data": {
      "text/html": [
       "<div>\n",
       "<style scoped>\n",
       "    .dataframe tbody tr th:only-of-type {\n",
       "        vertical-align: middle;\n",
       "    }\n",
       "\n",
       "    .dataframe tbody tr th {\n",
       "        vertical-align: top;\n",
       "    }\n",
       "\n",
       "    .dataframe thead th {\n",
       "        text-align: right;\n",
       "    }\n",
       "</style>\n",
       "<table border=\"1\" class=\"dataframe\">\n",
       "  <thead>\n",
       "    <tr style=\"text-align: right;\">\n",
       "      <th></th>\n",
       "      <th>unique_id</th>\n",
       "      <th>h1n1_worry</th>\n",
       "      <th>h1n1_awareness</th>\n",
       "      <th>antiviral_medication</th>\n",
       "      <th>contact_avoidance</th>\n",
       "      <th>bought_face_mask</th>\n",
       "      <th>wash_hands_frequently</th>\n",
       "      <th>avoid_large_gatherings</th>\n",
       "      <th>reduced_outside_home_cont</th>\n",
       "      <th>avoid_touch_face</th>\n",
       "      <th>...</th>\n",
       "      <th>has_health_insur</th>\n",
       "      <th>is_h1n1_vacc_effective</th>\n",
       "      <th>is_h1n1_risky</th>\n",
       "      <th>sick_from_h1n1_vacc</th>\n",
       "      <th>is_seas_vacc_effective</th>\n",
       "      <th>is_seas_risky</th>\n",
       "      <th>sick_from_seas_vacc</th>\n",
       "      <th>no_of_adults</th>\n",
       "      <th>no_of_children</th>\n",
       "      <th>h1n1_vaccine</th>\n",
       "    </tr>\n",
       "  </thead>\n",
       "  <tbody>\n",
       "    <tr>\n",
       "      <th>count</th>\n",
       "      <td>26707.000000</td>\n",
       "      <td>26707.000000</td>\n",
       "      <td>26707.000000</td>\n",
       "      <td>26707.000000</td>\n",
       "      <td>26707.000000</td>\n",
       "      <td>26707.000000</td>\n",
       "      <td>26707.000000</td>\n",
       "      <td>26707.000000</td>\n",
       "      <td>26707.000000</td>\n",
       "      <td>26707.000000</td>\n",
       "      <td>...</td>\n",
       "      <td>26707.000000</td>\n",
       "      <td>26707.000000</td>\n",
       "      <td>26707.000000</td>\n",
       "      <td>26707.000000</td>\n",
       "      <td>26707.000000</td>\n",
       "      <td>26707.000000</td>\n",
       "      <td>26707.000000</td>\n",
       "      <td>26707.000000</td>\n",
       "      <td>26707.000000</td>\n",
       "      <td>26707.000000</td>\n",
       "    </tr>\n",
       "    <tr>\n",
       "      <th>mean</th>\n",
       "      <td>13353.000000</td>\n",
       "      <td>1.612910</td>\n",
       "      <td>1.261392</td>\n",
       "      <td>0.048714</td>\n",
       "      <td>0.727749</td>\n",
       "      <td>0.068933</td>\n",
       "      <td>0.825888</td>\n",
       "      <td>0.357472</td>\n",
       "      <td>0.336279</td>\n",
       "      <td>0.678811</td>\n",
       "      <td>...</td>\n",
       "      <td>0.475418</td>\n",
       "      <td>3.838170</td>\n",
       "      <td>2.352117</td>\n",
       "      <td>2.367170</td>\n",
       "      <td>4.008238</td>\n",
       "      <td>2.724567</td>\n",
       "      <td>2.135845</td>\n",
       "      <td>0.887558</td>\n",
       "      <td>0.529599</td>\n",
       "      <td>0.212454</td>\n",
       "    </tr>\n",
       "    <tr>\n",
       "      <th>std</th>\n",
       "      <td>7709.791156</td>\n",
       "      <td>0.913676</td>\n",
       "      <td>0.617047</td>\n",
       "      <td>0.215273</td>\n",
       "      <td>0.445127</td>\n",
       "      <td>0.253345</td>\n",
       "      <td>0.379213</td>\n",
       "      <td>0.479264</td>\n",
       "      <td>0.472444</td>\n",
       "      <td>0.466942</td>\n",
       "      <td>...</td>\n",
       "      <td>0.499405</td>\n",
       "      <td>1.005239</td>\n",
       "      <td>1.278589</td>\n",
       "      <td>1.354871</td>\n",
       "      <td>1.085401</td>\n",
       "      <td>1.372204</td>\n",
       "      <td>1.325275</td>\n",
       "      <td>0.749980</td>\n",
       "      <td>0.925264</td>\n",
       "      <td>0.409052</td>\n",
       "    </tr>\n",
       "    <tr>\n",
       "      <th>min</th>\n",
       "      <td>0.000000</td>\n",
       "      <td>0.000000</td>\n",
       "      <td>0.000000</td>\n",
       "      <td>0.000000</td>\n",
       "      <td>0.000000</td>\n",
       "      <td>0.000000</td>\n",
       "      <td>0.000000</td>\n",
       "      <td>0.000000</td>\n",
       "      <td>0.000000</td>\n",
       "      <td>0.000000</td>\n",
       "      <td>...</td>\n",
       "      <td>0.000000</td>\n",
       "      <td>1.000000</td>\n",
       "      <td>1.000000</td>\n",
       "      <td>1.000000</td>\n",
       "      <td>1.000000</td>\n",
       "      <td>1.000000</td>\n",
       "      <td>1.000000</td>\n",
       "      <td>0.000000</td>\n",
       "      <td>0.000000</td>\n",
       "      <td>0.000000</td>\n",
       "    </tr>\n",
       "    <tr>\n",
       "      <th>1%</th>\n",
       "      <td>267.060000</td>\n",
       "      <td>0.000000</td>\n",
       "      <td>0.000000</td>\n",
       "      <td>0.000000</td>\n",
       "      <td>0.000000</td>\n",
       "      <td>0.000000</td>\n",
       "      <td>0.000000</td>\n",
       "      <td>0.000000</td>\n",
       "      <td>0.000000</td>\n",
       "      <td>0.000000</td>\n",
       "      <td>...</td>\n",
       "      <td>0.000000</td>\n",
       "      <td>1.000000</td>\n",
       "      <td>1.000000</td>\n",
       "      <td>1.000000</td>\n",
       "      <td>1.000000</td>\n",
       "      <td>1.000000</td>\n",
       "      <td>1.000000</td>\n",
       "      <td>0.000000</td>\n",
       "      <td>0.000000</td>\n",
       "      <td>0.000000</td>\n",
       "    </tr>\n",
       "    <tr>\n",
       "      <th>2%</th>\n",
       "      <td>534.120000</td>\n",
       "      <td>0.000000</td>\n",
       "      <td>0.000000</td>\n",
       "      <td>0.000000</td>\n",
       "      <td>0.000000</td>\n",
       "      <td>0.000000</td>\n",
       "      <td>0.000000</td>\n",
       "      <td>0.000000</td>\n",
       "      <td>0.000000</td>\n",
       "      <td>0.000000</td>\n",
       "      <td>...</td>\n",
       "      <td>0.000000</td>\n",
       "      <td>1.000000</td>\n",
       "      <td>1.000000</td>\n",
       "      <td>1.000000</td>\n",
       "      <td>1.000000</td>\n",
       "      <td>1.000000</td>\n",
       "      <td>1.000000</td>\n",
       "      <td>0.000000</td>\n",
       "      <td>0.000000</td>\n",
       "      <td>0.000000</td>\n",
       "    </tr>\n",
       "    <tr>\n",
       "      <th>3%</th>\n",
       "      <td>801.180000</td>\n",
       "      <td>0.000000</td>\n",
       "      <td>0.000000</td>\n",
       "      <td>0.000000</td>\n",
       "      <td>0.000000</td>\n",
       "      <td>0.000000</td>\n",
       "      <td>0.000000</td>\n",
       "      <td>0.000000</td>\n",
       "      <td>0.000000</td>\n",
       "      <td>0.000000</td>\n",
       "      <td>...</td>\n",
       "      <td>0.000000</td>\n",
       "      <td>1.000000</td>\n",
       "      <td>1.000000</td>\n",
       "      <td>1.000000</td>\n",
       "      <td>1.000000</td>\n",
       "      <td>1.000000</td>\n",
       "      <td>1.000000</td>\n",
       "      <td>0.000000</td>\n",
       "      <td>0.000000</td>\n",
       "      <td>0.000000</td>\n",
       "    </tr>\n",
       "    <tr>\n",
       "      <th>4%</th>\n",
       "      <td>1068.240000</td>\n",
       "      <td>0.000000</td>\n",
       "      <td>0.000000</td>\n",
       "      <td>0.000000</td>\n",
       "      <td>0.000000</td>\n",
       "      <td>0.000000</td>\n",
       "      <td>0.000000</td>\n",
       "      <td>0.000000</td>\n",
       "      <td>0.000000</td>\n",
       "      <td>0.000000</td>\n",
       "      <td>...</td>\n",
       "      <td>0.000000</td>\n",
       "      <td>2.000000</td>\n",
       "      <td>1.000000</td>\n",
       "      <td>1.000000</td>\n",
       "      <td>1.000000</td>\n",
       "      <td>1.000000</td>\n",
       "      <td>1.000000</td>\n",
       "      <td>0.000000</td>\n",
       "      <td>0.000000</td>\n",
       "      <td>0.000000</td>\n",
       "    </tr>\n",
       "    <tr>\n",
       "      <th>5%</th>\n",
       "      <td>1335.300000</td>\n",
       "      <td>0.000000</td>\n",
       "      <td>0.000000</td>\n",
       "      <td>0.000000</td>\n",
       "      <td>0.000000</td>\n",
       "      <td>0.000000</td>\n",
       "      <td>0.000000</td>\n",
       "      <td>0.000000</td>\n",
       "      <td>0.000000</td>\n",
       "      <td>0.000000</td>\n",
       "      <td>...</td>\n",
       "      <td>0.000000</td>\n",
       "      <td>2.000000</td>\n",
       "      <td>1.000000</td>\n",
       "      <td>1.000000</td>\n",
       "      <td>2.000000</td>\n",
       "      <td>1.000000</td>\n",
       "      <td>1.000000</td>\n",
       "      <td>0.000000</td>\n",
       "      <td>0.000000</td>\n",
       "      <td>0.000000</td>\n",
       "    </tr>\n",
       "    <tr>\n",
       "      <th>10%</th>\n",
       "      <td>2670.600000</td>\n",
       "      <td>0.000000</td>\n",
       "      <td>1.000000</td>\n",
       "      <td>0.000000</td>\n",
       "      <td>0.000000</td>\n",
       "      <td>0.000000</td>\n",
       "      <td>0.000000</td>\n",
       "      <td>0.000000</td>\n",
       "      <td>0.000000</td>\n",
       "      <td>0.000000</td>\n",
       "      <td>...</td>\n",
       "      <td>0.000000</td>\n",
       "      <td>2.000000</td>\n",
       "      <td>1.000000</td>\n",
       "      <td>1.000000</td>\n",
       "      <td>2.000000</td>\n",
       "      <td>1.000000</td>\n",
       "      <td>1.000000</td>\n",
       "      <td>0.000000</td>\n",
       "      <td>0.000000</td>\n",
       "      <td>0.000000</td>\n",
       "    </tr>\n",
       "    <tr>\n",
       "      <th>25%</th>\n",
       "      <td>6676.500000</td>\n",
       "      <td>1.000000</td>\n",
       "      <td>1.000000</td>\n",
       "      <td>0.000000</td>\n",
       "      <td>0.000000</td>\n",
       "      <td>0.000000</td>\n",
       "      <td>1.000000</td>\n",
       "      <td>0.000000</td>\n",
       "      <td>0.000000</td>\n",
       "      <td>0.000000</td>\n",
       "      <td>...</td>\n",
       "      <td>0.000000</td>\n",
       "      <td>3.000000</td>\n",
       "      <td>1.000000</td>\n",
       "      <td>1.000000</td>\n",
       "      <td>4.000000</td>\n",
       "      <td>2.000000</td>\n",
       "      <td>1.000000</td>\n",
       "      <td>0.000000</td>\n",
       "      <td>0.000000</td>\n",
       "      <td>0.000000</td>\n",
       "    </tr>\n",
       "    <tr>\n",
       "      <th>50%</th>\n",
       "      <td>13353.000000</td>\n",
       "      <td>2.000000</td>\n",
       "      <td>1.000000</td>\n",
       "      <td>0.000000</td>\n",
       "      <td>1.000000</td>\n",
       "      <td>0.000000</td>\n",
       "      <td>1.000000</td>\n",
       "      <td>0.000000</td>\n",
       "      <td>0.000000</td>\n",
       "      <td>1.000000</td>\n",
       "      <td>...</td>\n",
       "      <td>0.000000</td>\n",
       "      <td>4.000000</td>\n",
       "      <td>2.000000</td>\n",
       "      <td>2.000000</td>\n",
       "      <td>4.000000</td>\n",
       "      <td>2.000000</td>\n",
       "      <td>2.000000</td>\n",
       "      <td>1.000000</td>\n",
       "      <td>0.000000</td>\n",
       "      <td>0.000000</td>\n",
       "    </tr>\n",
       "    <tr>\n",
       "      <th>75%</th>\n",
       "      <td>20029.500000</td>\n",
       "      <td>2.000000</td>\n",
       "      <td>2.000000</td>\n",
       "      <td>0.000000</td>\n",
       "      <td>1.000000</td>\n",
       "      <td>0.000000</td>\n",
       "      <td>1.000000</td>\n",
       "      <td>1.000000</td>\n",
       "      <td>1.000000</td>\n",
       "      <td>1.000000</td>\n",
       "      <td>...</td>\n",
       "      <td>1.000000</td>\n",
       "      <td>5.000000</td>\n",
       "      <td>4.000000</td>\n",
       "      <td>4.000000</td>\n",
       "      <td>5.000000</td>\n",
       "      <td>4.000000</td>\n",
       "      <td>3.000000</td>\n",
       "      <td>1.000000</td>\n",
       "      <td>1.000000</td>\n",
       "      <td>0.000000</td>\n",
       "    </tr>\n",
       "    <tr>\n",
       "      <th>90%</th>\n",
       "      <td>24035.400000</td>\n",
       "      <td>3.000000</td>\n",
       "      <td>2.000000</td>\n",
       "      <td>0.000000</td>\n",
       "      <td>1.000000</td>\n",
       "      <td>0.000000</td>\n",
       "      <td>1.000000</td>\n",
       "      <td>1.000000</td>\n",
       "      <td>1.000000</td>\n",
       "      <td>1.000000</td>\n",
       "      <td>...</td>\n",
       "      <td>1.000000</td>\n",
       "      <td>5.000000</td>\n",
       "      <td>4.000000</td>\n",
       "      <td>4.000000</td>\n",
       "      <td>5.000000</td>\n",
       "      <td>5.000000</td>\n",
       "      <td>4.000000</td>\n",
       "      <td>2.000000</td>\n",
       "      <td>2.000000</td>\n",
       "      <td>1.000000</td>\n",
       "    </tr>\n",
       "    <tr>\n",
       "      <th>95%</th>\n",
       "      <td>25370.700000</td>\n",
       "      <td>3.000000</td>\n",
       "      <td>2.000000</td>\n",
       "      <td>0.000000</td>\n",
       "      <td>1.000000</td>\n",
       "      <td>1.000000</td>\n",
       "      <td>1.000000</td>\n",
       "      <td>1.000000</td>\n",
       "      <td>1.000000</td>\n",
       "      <td>1.000000</td>\n",
       "      <td>...</td>\n",
       "      <td>1.000000</td>\n",
       "      <td>5.000000</td>\n",
       "      <td>5.000000</td>\n",
       "      <td>5.000000</td>\n",
       "      <td>5.000000</td>\n",
       "      <td>5.000000</td>\n",
       "      <td>5.000000</td>\n",
       "      <td>2.000000</td>\n",
       "      <td>3.000000</td>\n",
       "      <td>1.000000</td>\n",
       "    </tr>\n",
       "    <tr>\n",
       "      <th>96%</th>\n",
       "      <td>25637.760000</td>\n",
       "      <td>3.000000</td>\n",
       "      <td>2.000000</td>\n",
       "      <td>1.000000</td>\n",
       "      <td>1.000000</td>\n",
       "      <td>1.000000</td>\n",
       "      <td>1.000000</td>\n",
       "      <td>1.000000</td>\n",
       "      <td>1.000000</td>\n",
       "      <td>1.000000</td>\n",
       "      <td>...</td>\n",
       "      <td>1.000000</td>\n",
       "      <td>5.000000</td>\n",
       "      <td>5.000000</td>\n",
       "      <td>5.000000</td>\n",
       "      <td>5.000000</td>\n",
       "      <td>5.000000</td>\n",
       "      <td>5.000000</td>\n",
       "      <td>3.000000</td>\n",
       "      <td>3.000000</td>\n",
       "      <td>1.000000</td>\n",
       "    </tr>\n",
       "    <tr>\n",
       "      <th>97%</th>\n",
       "      <td>25904.820000</td>\n",
       "      <td>3.000000</td>\n",
       "      <td>2.000000</td>\n",
       "      <td>1.000000</td>\n",
       "      <td>1.000000</td>\n",
       "      <td>1.000000</td>\n",
       "      <td>1.000000</td>\n",
       "      <td>1.000000</td>\n",
       "      <td>1.000000</td>\n",
       "      <td>1.000000</td>\n",
       "      <td>...</td>\n",
       "      <td>1.000000</td>\n",
       "      <td>5.000000</td>\n",
       "      <td>5.000000</td>\n",
       "      <td>5.000000</td>\n",
       "      <td>5.000000</td>\n",
       "      <td>5.000000</td>\n",
       "      <td>5.000000</td>\n",
       "      <td>3.000000</td>\n",
       "      <td>3.000000</td>\n",
       "      <td>1.000000</td>\n",
       "    </tr>\n",
       "    <tr>\n",
       "      <th>98%</th>\n",
       "      <td>26171.880000</td>\n",
       "      <td>3.000000</td>\n",
       "      <td>2.000000</td>\n",
       "      <td>1.000000</td>\n",
       "      <td>1.000000</td>\n",
       "      <td>1.000000</td>\n",
       "      <td>1.000000</td>\n",
       "      <td>1.000000</td>\n",
       "      <td>1.000000</td>\n",
       "      <td>1.000000</td>\n",
       "      <td>...</td>\n",
       "      <td>1.000000</td>\n",
       "      <td>5.000000</td>\n",
       "      <td>5.000000</td>\n",
       "      <td>5.000000</td>\n",
       "      <td>5.000000</td>\n",
       "      <td>5.000000</td>\n",
       "      <td>5.000000</td>\n",
       "      <td>3.000000</td>\n",
       "      <td>3.000000</td>\n",
       "      <td>1.000000</td>\n",
       "    </tr>\n",
       "    <tr>\n",
       "      <th>99%</th>\n",
       "      <td>26438.940000</td>\n",
       "      <td>3.000000</td>\n",
       "      <td>2.000000</td>\n",
       "      <td>1.000000</td>\n",
       "      <td>1.000000</td>\n",
       "      <td>1.000000</td>\n",
       "      <td>1.000000</td>\n",
       "      <td>1.000000</td>\n",
       "      <td>1.000000</td>\n",
       "      <td>1.000000</td>\n",
       "      <td>...</td>\n",
       "      <td>1.000000</td>\n",
       "      <td>5.000000</td>\n",
       "      <td>5.000000</td>\n",
       "      <td>5.000000</td>\n",
       "      <td>5.000000</td>\n",
       "      <td>5.000000</td>\n",
       "      <td>5.000000</td>\n",
       "      <td>3.000000</td>\n",
       "      <td>3.000000</td>\n",
       "      <td>1.000000</td>\n",
       "    </tr>\n",
       "    <tr>\n",
       "      <th>max</th>\n",
       "      <td>26706.000000</td>\n",
       "      <td>3.000000</td>\n",
       "      <td>2.000000</td>\n",
       "      <td>1.000000</td>\n",
       "      <td>1.000000</td>\n",
       "      <td>1.000000</td>\n",
       "      <td>1.000000</td>\n",
       "      <td>1.000000</td>\n",
       "      <td>1.000000</td>\n",
       "      <td>1.000000</td>\n",
       "      <td>...</td>\n",
       "      <td>1.000000</td>\n",
       "      <td>5.000000</td>\n",
       "      <td>5.000000</td>\n",
       "      <td>5.000000</td>\n",
       "      <td>5.000000</td>\n",
       "      <td>5.000000</td>\n",
       "      <td>5.000000</td>\n",
       "      <td>3.000000</td>\n",
       "      <td>3.000000</td>\n",
       "      <td>1.000000</td>\n",
       "    </tr>\n",
       "  </tbody>\n",
       "</table>\n",
       "<p>20 rows × 25 columns</p>\n",
       "</div>"
      ],
      "text/plain": [
       "          unique_id    h1n1_worry  h1n1_awareness  antiviral_medication  \\\n",
       "count  26707.000000  26707.000000    26707.000000          26707.000000   \n",
       "mean   13353.000000      1.612910        1.261392              0.048714   \n",
       "std     7709.791156      0.913676        0.617047              0.215273   \n",
       "min        0.000000      0.000000        0.000000              0.000000   \n",
       "1%       267.060000      0.000000        0.000000              0.000000   \n",
       "2%       534.120000      0.000000        0.000000              0.000000   \n",
       "3%       801.180000      0.000000        0.000000              0.000000   \n",
       "4%      1068.240000      0.000000        0.000000              0.000000   \n",
       "5%      1335.300000      0.000000        0.000000              0.000000   \n",
       "10%     2670.600000      0.000000        1.000000              0.000000   \n",
       "25%     6676.500000      1.000000        1.000000              0.000000   \n",
       "50%    13353.000000      2.000000        1.000000              0.000000   \n",
       "75%    20029.500000      2.000000        2.000000              0.000000   \n",
       "90%    24035.400000      3.000000        2.000000              0.000000   \n",
       "95%    25370.700000      3.000000        2.000000              0.000000   \n",
       "96%    25637.760000      3.000000        2.000000              1.000000   \n",
       "97%    25904.820000      3.000000        2.000000              1.000000   \n",
       "98%    26171.880000      3.000000        2.000000              1.000000   \n",
       "99%    26438.940000      3.000000        2.000000              1.000000   \n",
       "max    26706.000000      3.000000        2.000000              1.000000   \n",
       "\n",
       "       contact_avoidance  bought_face_mask  wash_hands_frequently  \\\n",
       "count       26707.000000      26707.000000           26707.000000   \n",
       "mean            0.727749          0.068933               0.825888   \n",
       "std             0.445127          0.253345               0.379213   \n",
       "min             0.000000          0.000000               0.000000   \n",
       "1%              0.000000          0.000000               0.000000   \n",
       "2%              0.000000          0.000000               0.000000   \n",
       "3%              0.000000          0.000000               0.000000   \n",
       "4%              0.000000          0.000000               0.000000   \n",
       "5%              0.000000          0.000000               0.000000   \n",
       "10%             0.000000          0.000000               0.000000   \n",
       "25%             0.000000          0.000000               1.000000   \n",
       "50%             1.000000          0.000000               1.000000   \n",
       "75%             1.000000          0.000000               1.000000   \n",
       "90%             1.000000          0.000000               1.000000   \n",
       "95%             1.000000          1.000000               1.000000   \n",
       "96%             1.000000          1.000000               1.000000   \n",
       "97%             1.000000          1.000000               1.000000   \n",
       "98%             1.000000          1.000000               1.000000   \n",
       "99%             1.000000          1.000000               1.000000   \n",
       "max             1.000000          1.000000               1.000000   \n",
       "\n",
       "       avoid_large_gatherings  reduced_outside_home_cont  avoid_touch_face  \\\n",
       "count            26707.000000               26707.000000      26707.000000   \n",
       "mean                 0.357472                   0.336279          0.678811   \n",
       "std                  0.479264                   0.472444          0.466942   \n",
       "min                  0.000000                   0.000000          0.000000   \n",
       "1%                   0.000000                   0.000000          0.000000   \n",
       "2%                   0.000000                   0.000000          0.000000   \n",
       "3%                   0.000000                   0.000000          0.000000   \n",
       "4%                   0.000000                   0.000000          0.000000   \n",
       "5%                   0.000000                   0.000000          0.000000   \n",
       "10%                  0.000000                   0.000000          0.000000   \n",
       "25%                  0.000000                   0.000000          0.000000   \n",
       "50%                  0.000000                   0.000000          1.000000   \n",
       "75%                  1.000000                   1.000000          1.000000   \n",
       "90%                  1.000000                   1.000000          1.000000   \n",
       "95%                  1.000000                   1.000000          1.000000   \n",
       "96%                  1.000000                   1.000000          1.000000   \n",
       "97%                  1.000000                   1.000000          1.000000   \n",
       "98%                  1.000000                   1.000000          1.000000   \n",
       "99%                  1.000000                   1.000000          1.000000   \n",
       "max                  1.000000                   1.000000          1.000000   \n",
       "\n",
       "       ...  has_health_insur  is_h1n1_vacc_effective  is_h1n1_risky  \\\n",
       "count  ...      26707.000000            26707.000000   26707.000000   \n",
       "mean   ...          0.475418                3.838170       2.352117   \n",
       "std    ...          0.499405                1.005239       1.278589   \n",
       "min    ...          0.000000                1.000000       1.000000   \n",
       "1%     ...          0.000000                1.000000       1.000000   \n",
       "2%     ...          0.000000                1.000000       1.000000   \n",
       "3%     ...          0.000000                1.000000       1.000000   \n",
       "4%     ...          0.000000                2.000000       1.000000   \n",
       "5%     ...          0.000000                2.000000       1.000000   \n",
       "10%    ...          0.000000                2.000000       1.000000   \n",
       "25%    ...          0.000000                3.000000       1.000000   \n",
       "50%    ...          0.000000                4.000000       2.000000   \n",
       "75%    ...          1.000000                5.000000       4.000000   \n",
       "90%    ...          1.000000                5.000000       4.000000   \n",
       "95%    ...          1.000000                5.000000       5.000000   \n",
       "96%    ...          1.000000                5.000000       5.000000   \n",
       "97%    ...          1.000000                5.000000       5.000000   \n",
       "98%    ...          1.000000                5.000000       5.000000   \n",
       "99%    ...          1.000000                5.000000       5.000000   \n",
       "max    ...          1.000000                5.000000       5.000000   \n",
       "\n",
       "       sick_from_h1n1_vacc  is_seas_vacc_effective  is_seas_risky  \\\n",
       "count         26707.000000            26707.000000   26707.000000   \n",
       "mean              2.367170                4.008238       2.724567   \n",
       "std               1.354871                1.085401       1.372204   \n",
       "min               1.000000                1.000000       1.000000   \n",
       "1%                1.000000                1.000000       1.000000   \n",
       "2%                1.000000                1.000000       1.000000   \n",
       "3%                1.000000                1.000000       1.000000   \n",
       "4%                1.000000                1.000000       1.000000   \n",
       "5%                1.000000                2.000000       1.000000   \n",
       "10%               1.000000                2.000000       1.000000   \n",
       "25%               1.000000                4.000000       2.000000   \n",
       "50%               2.000000                4.000000       2.000000   \n",
       "75%               4.000000                5.000000       4.000000   \n",
       "90%               4.000000                5.000000       5.000000   \n",
       "95%               5.000000                5.000000       5.000000   \n",
       "96%               5.000000                5.000000       5.000000   \n",
       "97%               5.000000                5.000000       5.000000   \n",
       "98%               5.000000                5.000000       5.000000   \n",
       "99%               5.000000                5.000000       5.000000   \n",
       "max               5.000000                5.000000       5.000000   \n",
       "\n",
       "       sick_from_seas_vacc  no_of_adults  no_of_children  h1n1_vaccine  \n",
       "count         26707.000000  26707.000000    26707.000000  26707.000000  \n",
       "mean              2.135845      0.887558        0.529599      0.212454  \n",
       "std               1.325275      0.749980        0.925264      0.409052  \n",
       "min               1.000000      0.000000        0.000000      0.000000  \n",
       "1%                1.000000      0.000000        0.000000      0.000000  \n",
       "2%                1.000000      0.000000        0.000000      0.000000  \n",
       "3%                1.000000      0.000000        0.000000      0.000000  \n",
       "4%                1.000000      0.000000        0.000000      0.000000  \n",
       "5%                1.000000      0.000000        0.000000      0.000000  \n",
       "10%               1.000000      0.000000        0.000000      0.000000  \n",
       "25%               1.000000      0.000000        0.000000      0.000000  \n",
       "50%               2.000000      1.000000        0.000000      0.000000  \n",
       "75%               3.000000      1.000000        1.000000      0.000000  \n",
       "90%               4.000000      2.000000        2.000000      1.000000  \n",
       "95%               5.000000      2.000000        3.000000      1.000000  \n",
       "96%               5.000000      3.000000        3.000000      1.000000  \n",
       "97%               5.000000      3.000000        3.000000      1.000000  \n",
       "98%               5.000000      3.000000        3.000000      1.000000  \n",
       "99%               5.000000      3.000000        3.000000      1.000000  \n",
       "max               5.000000      3.000000        3.000000      1.000000  \n",
       "\n",
       "[20 rows x 25 columns]"
      ]
     },
     "execution_count": 96,
     "metadata": {},
     "output_type": "execute_result"
    }
   ],
   "source": [
    "df.describe(percentiles=[0.01,0.02,0.03,.04,.05,.1,.25,.5,.75,.9,.95,.96,.97,.98,.99])"
   ]
  },
  {
   "cell_type": "code",
   "execution_count": 97,
   "id": "f8587cfd",
   "metadata": {},
   "outputs": [
    {
     "name": "stdout",
     "output_type": "stream",
     "text": [
      "<class 'pandas.core.frame.DataFrame'>\n",
      "RangeIndex: 26707 entries, 0 to 26706\n",
      "Data columns (total 34 columns):\n",
      " #   Column                     Non-Null Count  Dtype  \n",
      "---  ------                     --------------  -----  \n",
      " 0   unique_id                  26707 non-null  int64  \n",
      " 1   h1n1_worry                 26707 non-null  float64\n",
      " 2   h1n1_awareness             26707 non-null  float64\n",
      " 3   antiviral_medication       26707 non-null  float64\n",
      " 4   contact_avoidance          26707 non-null  float64\n",
      " 5   bought_face_mask           26707 non-null  float64\n",
      " 6   wash_hands_frequently      26707 non-null  float64\n",
      " 7   avoid_large_gatherings     26707 non-null  float64\n",
      " 8   reduced_outside_home_cont  26707 non-null  float64\n",
      " 9   avoid_touch_face           26707 non-null  float64\n",
      " 10  dr_recc_h1n1_vacc          26707 non-null  float64\n",
      " 11  dr_recc_seasonal_vacc      26707 non-null  float64\n",
      " 12  chronic_medic_condition    26707 non-null  float64\n",
      " 13  cont_child_undr_6_mnths    26707 non-null  float64\n",
      " 14  is_health_worker           26707 non-null  float64\n",
      " 15  has_health_insur           26707 non-null  float64\n",
      " 16  is_h1n1_vacc_effective     26707 non-null  float64\n",
      " 17  is_h1n1_risky              26707 non-null  float64\n",
      " 18  sick_from_h1n1_vacc        26707 non-null  float64\n",
      " 19  is_seas_vacc_effective     26707 non-null  float64\n",
      " 20  is_seas_risky              26707 non-null  float64\n",
      " 21  sick_from_seas_vacc        26707 non-null  float64\n",
      " 22  age_bracket                26707 non-null  object \n",
      " 23  qualification              26707 non-null  object \n",
      " 24  race                       26707 non-null  object \n",
      " 25  sex                        26707 non-null  object \n",
      " 26  income_level               26707 non-null  object \n",
      " 27  marital_status             26707 non-null  object \n",
      " 28  housing_status             26707 non-null  object \n",
      " 29  employment                 26707 non-null  object \n",
      " 30  census_msa                 26707 non-null  object \n",
      " 31  no_of_adults               26707 non-null  float64\n",
      " 32  no_of_children             26707 non-null  float64\n",
      " 33  h1n1_vaccine               26707 non-null  int64  \n",
      "dtypes: float64(23), int64(2), object(9)\n",
      "memory usage: 6.9+ MB\n"
     ]
    }
   ],
   "source": [
    "df.info()"
   ]
  },
  {
   "cell_type": "code",
   "execution_count": 98,
   "id": "a5c599c4",
   "metadata": {},
   "outputs": [],
   "source": [
    "# df.select_dtypes(include=\"int\"and\"float\").describe(percentiles=[0.01,0.02,0.03,.04,.05,.1,.25,.5,.75,.9,.95,.96,.97,.98,.99]).T"
   ]
  },
  {
   "cell_type": "code",
   "execution_count": 99,
   "id": "3fc03b26",
   "metadata": {},
   "outputs": [],
   "source": [
    "df.drop(columns=[\"unique_id\"],inplace=True)"
   ]
  },
  {
   "cell_type": "code",
   "execution_count": 100,
   "id": "ab76cac2",
   "metadata": {},
   "outputs": [
    {
     "name": "stdout",
     "output_type": "stream",
     "text": [
      "<class 'pandas.core.frame.DataFrame'>\n",
      "RangeIndex: 26707 entries, 0 to 26706\n",
      "Data columns (total 9 columns):\n",
      " #   Column          Non-Null Count  Dtype \n",
      "---  ------          --------------  ----- \n",
      " 0   age_bracket     26707 non-null  object\n",
      " 1   qualification   26707 non-null  object\n",
      " 2   race            26707 non-null  object\n",
      " 3   sex             26707 non-null  object\n",
      " 4   income_level    26707 non-null  object\n",
      " 5   marital_status  26707 non-null  object\n",
      " 6   housing_status  26707 non-null  object\n",
      " 7   employment      26707 non-null  object\n",
      " 8   census_msa      26707 non-null  object\n",
      "dtypes: object(9)\n",
      "memory usage: 1.8+ MB\n"
     ]
    }
   ],
   "source": [
    "df.select_dtypes(include=\"O\").info()"
   ]
  },
  {
   "cell_type": "markdown",
   "id": "68166db6",
   "metadata": {},
   "source": [
    "#### Dummy Creation:"
   ]
  },
  {
   "cell_type": "code",
   "execution_count": 101,
   "id": "7ba6e2e7",
   "metadata": {},
   "outputs": [
    {
     "name": "stdout",
     "output_type": "stream",
     "text": [
      "<class 'pandas.core.frame.DataFrame'>\n",
      "RangeIndex: 26707 entries, 0 to 26706\n",
      "Data columns (total 33 columns):\n",
      " #   Column                     Non-Null Count  Dtype  \n",
      "---  ------                     --------------  -----  \n",
      " 0   h1n1_worry                 26707 non-null  float64\n",
      " 1   h1n1_awareness             26707 non-null  float64\n",
      " 2   antiviral_medication       26707 non-null  float64\n",
      " 3   contact_avoidance          26707 non-null  float64\n",
      " 4   bought_face_mask           26707 non-null  float64\n",
      " 5   wash_hands_frequently      26707 non-null  float64\n",
      " 6   avoid_large_gatherings     26707 non-null  float64\n",
      " 7   reduced_outside_home_cont  26707 non-null  float64\n",
      " 8   avoid_touch_face           26707 non-null  float64\n",
      " 9   dr_recc_h1n1_vacc          26707 non-null  float64\n",
      " 10  dr_recc_seasonal_vacc      26707 non-null  float64\n",
      " 11  chronic_medic_condition    26707 non-null  float64\n",
      " 12  cont_child_undr_6_mnths    26707 non-null  float64\n",
      " 13  is_health_worker           26707 non-null  float64\n",
      " 14  has_health_insur           26707 non-null  float64\n",
      " 15  is_h1n1_vacc_effective     26707 non-null  float64\n",
      " 16  is_h1n1_risky              26707 non-null  float64\n",
      " 17  sick_from_h1n1_vacc        26707 non-null  float64\n",
      " 18  is_seas_vacc_effective     26707 non-null  float64\n",
      " 19  is_seas_risky              26707 non-null  float64\n",
      " 20  sick_from_seas_vacc        26707 non-null  float64\n",
      " 21  age_bracket                26707 non-null  object \n",
      " 22  qualification              26707 non-null  object \n",
      " 23  race                       26707 non-null  object \n",
      " 24  sex                        26707 non-null  object \n",
      " 25  income_level               26707 non-null  object \n",
      " 26  marital_status             26707 non-null  object \n",
      " 27  housing_status             26707 non-null  object \n",
      " 28  employment                 26707 non-null  object \n",
      " 29  census_msa                 26707 non-null  object \n",
      " 30  no_of_adults               26707 non-null  float64\n",
      " 31  no_of_children             26707 non-null  float64\n",
      " 32  h1n1_vaccine               26707 non-null  int64  \n",
      "dtypes: float64(23), int64(1), object(9)\n",
      "memory usage: 6.7+ MB\n"
     ]
    }
   ],
   "source": [
    "df.info()"
   ]
  },
  {
   "cell_type": "code",
   "execution_count": 102,
   "id": "9e815351",
   "metadata": {},
   "outputs": [
    {
     "data": {
      "text/plain": [
       "MSA, Not Principle  City    11645\n",
       "MSA, Principle City          7864\n",
       "Non-MSA                      7198\n",
       "Name: census_msa, dtype: int64"
      ]
     },
     "execution_count": 102,
     "metadata": {},
     "output_type": "execute_result"
    }
   ],
   "source": [
    "df[\"census_msa\"].value_counts()"
   ]
  },
  {
   "cell_type": "code",
   "execution_count": 103,
   "id": "80fd1051",
   "metadata": {},
   "outputs": [],
   "source": [
    "df.drop(columns=[\"marital_status\",\"housing_status\",\"census_msa\",\"no_of_children\",\"no_of_adults\"],inplace=True)"
   ]
  },
  {
   "cell_type": "code",
   "execution_count": 104,
   "id": "aef178eb",
   "metadata": {},
   "outputs": [],
   "source": [
    "df1 = pd.get_dummies(df,columns=[\"age_bracket\",\"qualification\",\"race\",\"sex\",\"income_level\",\"employment\"],drop_first=True)"
   ]
  },
  {
   "cell_type": "code",
   "execution_count": 105,
   "id": "bd1c4d65",
   "metadata": {},
   "outputs": [
    {
     "name": "stdout",
     "output_type": "stream",
     "text": [
      "<class 'pandas.core.frame.DataFrame'>\n",
      "RangeIndex: 26707 entries, 0 to 26706\n",
      "Data columns (total 40 columns):\n",
      " #   Column                          Non-Null Count  Dtype  \n",
      "---  ------                          --------------  -----  \n",
      " 0   h1n1_worry                      26707 non-null  float64\n",
      " 1   h1n1_awareness                  26707 non-null  float64\n",
      " 2   antiviral_medication            26707 non-null  float64\n",
      " 3   contact_avoidance               26707 non-null  float64\n",
      " 4   bought_face_mask                26707 non-null  float64\n",
      " 5   wash_hands_frequently           26707 non-null  float64\n",
      " 6   avoid_large_gatherings          26707 non-null  float64\n",
      " 7   reduced_outside_home_cont       26707 non-null  float64\n",
      " 8   avoid_touch_face                26707 non-null  float64\n",
      " 9   dr_recc_h1n1_vacc               26707 non-null  float64\n",
      " 10  dr_recc_seasonal_vacc           26707 non-null  float64\n",
      " 11  chronic_medic_condition         26707 non-null  float64\n",
      " 12  cont_child_undr_6_mnths         26707 non-null  float64\n",
      " 13  is_health_worker                26707 non-null  float64\n",
      " 14  has_health_insur                26707 non-null  float64\n",
      " 15  is_h1n1_vacc_effective          26707 non-null  float64\n",
      " 16  is_h1n1_risky                   26707 non-null  float64\n",
      " 17  sick_from_h1n1_vacc             26707 non-null  float64\n",
      " 18  is_seas_vacc_effective          26707 non-null  float64\n",
      " 19  is_seas_risky                   26707 non-null  float64\n",
      " 20  sick_from_seas_vacc             26707 non-null  float64\n",
      " 21  h1n1_vaccine                    26707 non-null  int64  \n",
      " 22  age_bracket_35 - 44 Years       26707 non-null  uint8  \n",
      " 23  age_bracket_45 - 54 Years       26707 non-null  uint8  \n",
      " 24  age_bracket_55 - 64 Years       26707 non-null  uint8  \n",
      " 25  age_bracket_65+ Years           26707 non-null  uint8  \n",
      " 26  qualification_< 12 Years        26707 non-null  uint8  \n",
      " 27  qualification_College Graduate  26707 non-null  uint8  \n",
      " 28  qualification_Other             26707 non-null  uint8  \n",
      " 29  qualification_Some College      26707 non-null  uint8  \n",
      " 30  race_Hispanic                   26707 non-null  uint8  \n",
      " 31  race_Other or Multiple          26707 non-null  uint8  \n",
      " 32  race_White                      26707 non-null  uint8  \n",
      " 33  sex_Male                        26707 non-null  uint8  \n",
      " 34  income_level_> $75,000          26707 non-null  uint8  \n",
      " 35  income_level_Below Poverty      26707 non-null  uint8  \n",
      " 36  income_level_Other              26707 non-null  uint8  \n",
      " 37  employment_Not in Labor Force   26707 non-null  uint8  \n",
      " 38  employment_Other                26707 non-null  uint8  \n",
      " 39  employment_Unemployed           26707 non-null  uint8  \n",
      "dtypes: float64(21), int64(1), uint8(18)\n",
      "memory usage: 4.9 MB\n"
     ]
    }
   ],
   "source": [
    "df1.info()"
   ]
  },
  {
   "cell_type": "code",
   "execution_count": 106,
   "id": "317b6ff1",
   "metadata": {},
   "outputs": [],
   "source": [
    "df1  = df1.rename(columns={\"qualification_< 12 Years\":\"qualification_less_than 12 Years\",\n",
    "           \"income_level_> $75,000\":\"income_level_greater_than $75,000\"})"
   ]
  },
  {
   "cell_type": "code",
   "execution_count": 107,
   "id": "b29f9ce2",
   "metadata": {},
   "outputs": [
    {
     "data": {
      "image/png": "[encoded data removed]",
      "text/plain": [
       "<Figure size 864x864 with 2 Axes>"
      ]
     },
     "metadata": {
      "needs_background": "light"
     },
     "output_type": "display_data"
    }
   ],
   "source": [
    "df1.corr()\n",
    "plt.figure(figsize=(12,12))\n",
    "corr = sns.heatmap(df1.corr())\n",
    "plt.show()\n"
   ]
  },
  {
   "cell_type": "markdown",
   "id": "c64ea306",
   "metadata": {},
   "source": [
    "#### Graphical Analysis"
   ]
  },
  {
   "cell_type": "code",
   "execution_count": 108,
   "id": "e2df1991",
   "metadata": {},
   "outputs": [
    {
     "name": "stdout",
     "output_type": "stream",
     "text": [
      "<class 'pandas.core.frame.DataFrame'>\n",
      "RangeIndex: 26707 entries, 0 to 26706\n",
      "Data columns (total 40 columns):\n",
      " #   Column                             Non-Null Count  Dtype  \n",
      "---  ------                             --------------  -----  \n",
      " 0   h1n1_worry                         26707 non-null  float64\n",
      " 1   h1n1_awareness                     26707 non-null  float64\n",
      " 2   antiviral_medication               26707 non-null  float64\n",
      " 3   contact_avoidance                  26707 non-null  float64\n",
      " 4   bought_face_mask                   26707 non-null  float64\n",
      " 5   wash_hands_frequently              26707 non-null  float64\n",
      " 6   avoid_large_gatherings             26707 non-null  float64\n",
      " 7   reduced_outside_home_cont          26707 non-null  float64\n",
      " 8   avoid_touch_face                   26707 non-null  float64\n",
      " 9   dr_recc_h1n1_vacc                  26707 non-null  float64\n",
      " 10  dr_recc_seasonal_vacc              26707 non-null  float64\n",
      " 11  chronic_medic_condition            26707 non-null  float64\n",
      " 12  cont_child_undr_6_mnths            26707 non-null  float64\n",
      " 13  is_health_worker                   26707 non-null  float64\n",
      " 14  has_health_insur                   26707 non-null  float64\n",
      " 15  is_h1n1_vacc_effective             26707 non-null  float64\n",
      " 16  is_h1n1_risky                      26707 non-null  float64\n",
      " 17  sick_from_h1n1_vacc                26707 non-null  float64\n",
      " 18  is_seas_vacc_effective             26707 non-null  float64\n",
      " 19  is_seas_risky                      26707 non-null  float64\n",
      " 20  sick_from_seas_vacc                26707 non-null  float64\n",
      " 21  h1n1_vaccine                       26707 non-null  int64  \n",
      " 22  age_bracket_35 - 44 Years          26707 non-null  uint8  \n",
      " 23  age_bracket_45 - 54 Years          26707 non-null  uint8  \n",
      " 24  age_bracket_55 - 64 Years          26707 non-null  uint8  \n",
      " 25  age_bracket_65+ Years              26707 non-null  uint8  \n",
      " 26  qualification_less_than 12 Years   26707 non-null  uint8  \n",
      " 27  qualification_College Graduate     26707 non-null  uint8  \n",
      " 28  qualification_Other                26707 non-null  uint8  \n",
      " 29  qualification_Some College         26707 non-null  uint8  \n",
      " 30  race_Hispanic                      26707 non-null  uint8  \n",
      " 31  race_Other or Multiple             26707 non-null  uint8  \n",
      " 32  race_White                         26707 non-null  uint8  \n",
      " 33  sex_Male                           26707 non-null  uint8  \n",
      " 34  income_level_greater_than $75,000  26707 non-null  uint8  \n",
      " 35  income_level_Below Poverty         26707 non-null  uint8  \n",
      " 36  income_level_Other                 26707 non-null  uint8  \n",
      " 37  employment_Not in Labor Force      26707 non-null  uint8  \n",
      " 38  employment_Other                   26707 non-null  uint8  \n",
      " 39  employment_Unemployed              26707 non-null  uint8  \n",
      "dtypes: float64(21), int64(1), uint8(18)\n",
      "memory usage: 4.9 MB\n"
     ]
    }
   ],
   "source": [
    "df1.info()"
   ]
  },
  {
   "cell_type": "code",
   "execution_count": 134,
   "id": "869b6bb8",
   "metadata": {},
   "outputs": [
    {
     "data": {
      "image/png": "[encoded data removed]",
      "text/plain": [
       "<Figure size 864x576 with 1 Axes>"
      ]
     },
     "metadata": {
      "needs_background": "light"
     },
     "output_type": "display_data"
    },
    {
     "data": {
      "text/plain": [
       "<Figure size 432x288 with 0 Axes>"
      ]
     },
     "metadata": {},
     "output_type": "display_data"
    }
   ],
   "source": [
    "df1.pivot_table(index='h1n1_vaccine',columns=\"h1n1_worry\",values=\"age_bracket_35 - 44 Years\",aggfunc=\"count\").plot(kind=\"bar\",figsize=(12,8))\n",
    "plt.xlabel(\"h1n1 Vaccine\",fontsize=(12))\n",
    "plt.ylabel(\"Count of People\",fontsize=(12))\n",
    "plt.title(\"All Age group\",fontsize=(12))\n",
    "plt.show()\n",
    "plt.savefig(\"In_the_Age_group_of_35_44_years.jpg\")"
   ]
  },
  {
   "cell_type": "code",
   "execution_count": 110,
   "id": "86578c87",
   "metadata": {},
   "outputs": [
    {
     "data": {
      "image/png": "[encoded data removed]",
      "text/plain": [
       "<Figure size 864x864 with 5 Axes>"
      ]
     },
     "metadata": {
      "needs_background": "light"
     },
     "output_type": "display_data"
    }
   ],
   "source": [
    "fig, ax = plt.subplots(5, 1, sharex=True,figsize=(12,12))\n",
    "\n",
    "n_obs = df1.shape[0]\n",
    "\n",
    "(df1['h1n1_vaccine']\n",
    "    .value_counts()\n",
    "    .div(n_obs)\n",
    "    .plot.barh(title=\"Proportion of H1N1 Vaccine\", ax=ax[0])\n",
    ")\n",
    "ax[0].set_ylabel(\"h1n1_vaccine\")\n",
    "\n",
    "(df1['dr_recc_seasonal_vacc']\n",
    "    .value_counts()\n",
    "    .div(n_obs)\n",
    "    .plot.barh(title=\"Proportion of Seasonal Vaccine\", ax=ax[1])\n",
    ")\n",
    "ax[1].set_ylabel(\"Dr Recommended Seasonal\")\n",
    "\n",
    "(df1['h1n1_awareness']\n",
    "    .value_counts()\n",
    "    .div(n_obs)\n",
    "    .plot.barh(title=\"Awareness of H1N1\", ax=ax[2])\n",
    ")\n",
    "ax[2].set_ylabel(\"AwarenessH1N1\")\n",
    "\n",
    "(df1['dr_recc_h1n1_vacc']\n",
    "    .value_counts()\n",
    "    .div(n_obs)\n",
    "    .plot.barh(title=\"Dr Recommended H1N1\", ax=ax[3])\n",
    ")\n",
    "ax[3].set_ylabel(\"Dr Recommended H1N1\")\n",
    "\n",
    "(df1['contact_avoidance']\n",
    "    .value_counts()\n",
    "    .div(n_obs)\n",
    "    .plot.barh(title=\"Avoided Contact\", ax=ax[4])\n",
    ")\n",
    "ax[4].set_ylabel(\"Avoided Contact\")\n",
    "\n",
    "fig.tight_layout()\n",
    "plt.savefig(\"All.jpg\")\n"
   ]
  },
  {
   "cell_type": "code",
   "execution_count": 111,
   "id": "786da28b",
   "metadata": {},
   "outputs": [
    {
     "data": {
      "image/png": "[encoded data removed]",
      "text/plain": [
       "<Figure size 864x576 with 1 Axes>"
      ]
     },
     "metadata": {
      "needs_background": "light"
     },
     "output_type": "display_data"
    },
    {
     "data": {
      "text/plain": [
       "<Figure size 432x288 with 0 Axes>"
      ]
     },
     "metadata": {},
     "output_type": "display_data"
    }
   ],
   "source": [
    "df1.pivot_table(index='h1n1_vaccine',columns=\"is_health_worker\",values=\"income_level_greater_than $75,000\",aggfunc=\"count\").plot(kind=\"bar\",figsize=(12,8))\n",
    "plt.xlabel(\"h1n1 Vaccine\",fontsize=(12))\n",
    "plt.ylabel(\"Count of health Worker\",fontsize=(12))\n",
    "plt.title(\"Health worker Vaccination\",fontsize=(12))\n",
    "plt.show()\n",
    "plt.savefig(\"Health worker Vaccination.jpeg\")"
   ]
  },
  {
   "cell_type": "code",
   "execution_count": 112,
   "id": "dd5ce217",
   "metadata": {},
   "outputs": [
    {
     "data": {
      "image/png": "[encoded data removed]",
      "text/plain": [
       "<Figure size 864x576 with 1 Axes>"
      ]
     },
     "metadata": {
      "needs_background": "light"
     },
     "output_type": "display_data"
    },
    {
     "data": {
      "text/plain": [
       "<Figure size 432x288 with 0 Axes>"
      ]
     },
     "metadata": {},
     "output_type": "display_data"
    }
   ],
   "source": [
    "df1.pivot_table(index='h1n1_vaccine',columns=\"sick_from_h1n1_vacc\",values=\"has_health_insur\",aggfunc=\"count\").plot(kind=\"bar\",figsize=(12,8))\n",
    "plt.xlabel(\"h1n1 Vaccine\",fontsize=(12))\n",
    "plt.ylabel(\"Count of People Worried\",fontsize=(12))\n",
    "plt.title(\"People worried about getting sick Vs getting Vaccines\",fontsize=(12))\n",
    "plt.show()\n",
    "plt.savefig(\"People worried about getting sick Vs getting Vaccines.jpeg\")"
   ]
  },
  {
   "cell_type": "markdown",
   "id": "6c15c052",
   "metadata": {},
   "source": [
    "#### Splitting X and Y into train and test"
   ]
  },
  {
   "cell_type": "code",
   "execution_count": 113,
   "id": "d16c32f6",
   "metadata": {},
   "outputs": [],
   "source": [
    "y = df1[\"h1n1_vaccine\"]\n",
    "X =df1.drop([\"h1n1_vaccine\"],axis=1)"
   ]
  },
  {
   "cell_type": "code",
   "execution_count": 114,
   "id": "8849fd1d",
   "metadata": {},
   "outputs": [],
   "source": [
    "X_train, X_test, y_train, y_test = train_test_split(X,y,test_size=.3,random_state=1)"
   ]
  },
  {
   "cell_type": "markdown",
   "id": "857f9eb9",
   "metadata": {},
   "source": [
    "#### Standardizing the train and test value"
   ]
  },
  {
   "cell_type": "code",
   "execution_count": 115,
   "id": "555dd510",
   "metadata": {},
   "outputs": [],
   "source": [
    "sc = StandardScaler()\n",
    "X_train_sc = sc.fit_transform(X_train)\n",
    "X_test_sc = sc.transform(X_test)"
   ]
  },
  {
   "cell_type": "code",
   "execution_count": 116,
   "id": "c6df2030",
   "metadata": {},
   "outputs": [],
   "source": [
    "#Standardized X_train using Z score\n",
    "X_trainsc = pd.DataFrame(X_train_sc,columns=X_train.columns)\n",
    "X_testsc = pd.DataFrame(X_test_sc,columns=X_test.columns)\n"
   ]
  },
  {
   "cell_type": "code",
   "execution_count": 117,
   "id": "a4dd28a7",
   "metadata": {},
   "outputs": [],
   "source": [
    "mms = MinMaxScaler()\n",
    "X_train_mms = mms.fit_transform(X_train)\n",
    "X_test_mms = mms.transform(X_test)"
   ]
  },
  {
   "cell_type": "code",
   "execution_count": 118,
   "id": "c1dde69f",
   "metadata": {},
   "outputs": [],
   "source": [
    "#Standardized scale using minmax \n",
    "X_trainmms = pd.DataFrame(X_train_mms,columns=X_train.columns)\n",
    "X_testmms = pd.DataFrame(X_test_mms,columns=X_test.columns)"
   ]
  },
  {
   "cell_type": "markdown",
   "id": "004d5fef",
   "metadata": {},
   "source": [
    "#### Model 1 : Xgboost"
   ]
  },
  {
   "cell_type": "code",
   "execution_count": 119,
   "id": "4fe59be2",
   "metadata": {},
   "outputs": [],
   "source": [
    "xgb = XGBClassifier()"
   ]
  },
  {
   "cell_type": "code",
   "execution_count": 120,
   "id": "ed6f921f",
   "metadata": {},
   "outputs": [
    {
     "name": "stderr",
     "output_type": "stream",
     "text": [
      "C:\\Users\\UTKARSH\\Anaconda3\\lib\\site-packages\\xgboost\\sklearn.py:1146: UserWarning: The use of label encoder in XGBClassifier is deprecated and will be removed in a future release. To remove this warning, do the following: 1) Pass option use_label_encoder=False when constructing XGBClassifier object; and 2) Encode your labels (y) as integers starting with 0, i.e. 0, 1, 2, ..., [num_class - 1].\n",
      "  warnings.warn(label_encoder_deprecation_msg, UserWarning)\n"
     ]
    },
    {
     "name": "stdout",
     "output_type": "stream",
     "text": [
      "[22:45:12] WARNING: C:/Users/Administrator/workspace/xgboost-win64_release_1.4.0/src/learner.cc:1095: Starting in XGBoost 1.3.0, the default evaluation metric used with the objective 'binary:logistic' was changed from 'error' to 'logloss'. Explicitly set eval_metric if you'd like to restore the old behavior.\n"
     ]
    }
   ],
   "source": [
    "model = xgb.fit(X_train,y_train)"
   ]
  },
  {
   "cell_type": "code",
   "execution_count": 121,
   "id": "8b16aa36",
   "metadata": {},
   "outputs": [
    {
     "name": "stdout",
     "output_type": "stream",
     "text": [
      "Train Score 0.9243072643628972\n",
      "Test Score 0.8497441657306877\n"
     ]
    }
   ],
   "source": [
    "print(\"Train Score\", model.score(X_train,y_train))\n",
    "print(\"Test Score\", model.score(X_test,y_test))"
   ]
  },
  {
   "cell_type": "markdown",
   "id": "0d0461b4",
   "metadata": {},
   "source": [
    "#### Model 2 : Adaboost"
   ]
  },
  {
   "cell_type": "code",
   "execution_count": 122,
   "id": "42f89612",
   "metadata": {},
   "outputs": [],
   "source": [
    "adb = AdaBoostClassifier()\n"
   ]
  },
  {
   "cell_type": "code",
   "execution_count": 123,
   "id": "1021d4bc",
   "metadata": {},
   "outputs": [],
   "source": [
    "model2 = adb.fit(X_train,y_train)"
   ]
  },
  {
   "cell_type": "code",
   "execution_count": 124,
   "id": "48fc3d04",
   "metadata": {},
   "outputs": [
    {
     "name": "stdout",
     "output_type": "stream",
     "text": [
      "Train Score 0.8482935701294533\n",
      "Test Score 0.8502433545488581\n"
     ]
    }
   ],
   "source": [
    "print(\"Train Score\", model2.score(X_train,y_train))\n",
    "print(\"Test Score\", model2.score(X_test,y_test))"
   ]
  },
  {
   "cell_type": "markdown",
   "id": "e8432f24",
   "metadata": {},
   "source": [
    "#### Model 3 : KNN"
   ]
  },
  {
   "cell_type": "code",
   "execution_count": 125,
   "id": "5f8a4779",
   "metadata": {},
   "outputs": [],
   "source": [
    "knn = KNeighborsClassifier()"
   ]
  },
  {
   "cell_type": "code",
   "execution_count": 126,
   "id": "29539d6b",
   "metadata": {},
   "outputs": [],
   "source": [
    "knn_sc = knn.fit(X_trainsc,y_train)\n",
    "knn_mms = knn.fit(X_trainmms,y_train)"
   ]
  },
  {
   "cell_type": "code",
   "execution_count": 127,
   "id": "fa5526cd",
   "metadata": {},
   "outputs": [
    {
     "name": "stdout",
     "output_type": "stream",
     "text": [
      "Train Score 0.8553011661495667\n",
      "Test Score 0.8241607387994508\n"
     ]
    }
   ],
   "source": [
    "#Standard Scaler\n",
    "print(\"Train Score\", knn_sc.score(X_trainsc,y_train))\n",
    "print(\"Test Score\", knn_sc.score(X_testsc,y_test))"
   ]
  },
  {
   "cell_type": "code",
   "execution_count": 128,
   "id": "822dc7df",
   "metadata": {},
   "outputs": [
    {
     "name": "stdout",
     "output_type": "stream",
     "text": [
      "Train Score 0.8676045790093078\n",
      "Test Score 0.8232871583676525\n"
     ]
    }
   ],
   "source": [
    "#MinMax\n",
    "print(\"Train Score\", knn_mms.score(X_trainmms,y_train))\n",
    "print(\"Test Score\", knn_mms.score(X_testmms,y_test))"
   ]
  },
  {
   "cell_type": "code",
   "execution_count": 128,
   "id": "9ea42219",
   "metadata": {},
   "outputs": [
    {
     "name": "stdout",
     "output_type": "stream",
     "text": [
      "Train accuracy 0.8891088049641597 and Test accuracy 0.8075627105952826 for k 3\n",
      "Train accuracy 0.8668556756178453 and Test accuracy 0.8175464869586921 for k 5\n",
      "Train accuracy 0.8589386969080989 and Test accuracy 0.8274054661175589 for k 7\n",
      "Train accuracy 0.8518776077885952 and Test accuracy 0.8308997878447523 for k 9\n",
      "Train accuracy 0.8488819942227452 and Test accuracy 0.8318981654810932 for k 11\n",
      "Train accuracy 0.8467422702471381 and Test accuracy 0.8345189067764882 for k 13\n",
      "Train accuracy 0.8443885738739703 and Test accuracy 0.8357668788219144 for k 15\n",
      "Train accuracy 0.8419278913020221 and Test accuracy 0.8357668788219144 for k 17\n",
      "Train accuracy 0.8413394672087301 and Test accuracy 0.8380132285036815 for k 19\n",
      "Train accuracy 0.8404300845190971 and Test accuracy 0.8371396480718832 for k 21\n",
      "Train accuracy 0.8400021397239756 and Test accuracy 0.8362660676400848 for k 23\n",
      "Train accuracy 0.839199743233123 and Test accuracy 0.835891676026457 for k 25\n",
      "Train accuracy 0.839199743233123 and Test accuracy 0.83651566204917 for k 27\n",
      "Train accuracy 0.8392532363325131 and Test accuracy 0.8348932983901161 for k 29\n",
      "Train accuracy 0.837701936450198 and Test accuracy 0.8340197179583178 for k 31\n",
      "Train accuracy 0.8370065261581257 and Test accuracy 0.8362660676400848 for k 33\n",
      "Train accuracy 0.8376484433508078 and Test accuracy 0.8347685011855734 for k 35\n",
      "Train accuracy 0.835936664170322 and Test accuracy 0.8337701235492325 for k 37\n",
      "Train accuracy 0.8354017331764202 and Test accuracy 0.8341445151628604 for k 39\n"
     ]
    }
   ],
   "source": [
    "#Standard Scaler\n",
    "k=[]\n",
    "train_ac=[]\n",
    "test_ac=[]\n",
    "for i in range(3, 40, 2):\n",
    "    knn2=KNeighborsClassifier(n_neighbors=i)\n",
    "    knn_sc = knn2.fit(X_trainsc,y_train)\n",
    "    ac1=knn_sc.score(X_trainsc,y_train)\n",
    "    ac2=knn_sc.score(X_testsc,y_test)\n",
    "    k.append(i)\n",
    "    train_ac.append(ac1)\n",
    "    test_ac.append(ac2)\n",
    "    print(\"Train accuracy {} and Test accuracy {} for k {}\".format(ac1, ac2, i))\n",
    "    "
   ]
  },
  {
   "cell_type": "code",
   "execution_count": 132,
   "id": "e9aa98a4",
   "metadata": {},
   "outputs": [
    {
     "data": {
      "image/png": "[encoded data removed]",
      "text/plain": [
       "<Figure size 864x504 with 1 Axes>"
      ]
     },
     "metadata": {
      "needs_background": "light"
     },
     "output_type": "display_data"
    },
    {
     "data": {
      "text/plain": [
       "<Figure size 432x288 with 0 Axes>"
      ]
     },
     "metadata": {},
     "output_type": "display_data"
    }
   ],
   "source": [
    "plt.figure(figsize=(12,7))\n",
    "plt.plot(k, train_ac, label=\"Train_accuracy\", color=\"blue\")\n",
    "plt.plot(k, test_ac, label=\"Test_accuracy\", color=\"magenta\")\n",
    "plt.legend()\n",
    "plt.xlabel(\"Neighbors\")\n",
    "plt.ylabel(\"accuracy\")\n",
    "plt.axvline(x = 19, color = 'black', label = 'axvline - full height')\n",
    "plt.axhline(y = 0.84, color = 'black', label = 'axhline - full height')\n",
    "plt.show()\n",
    "plt.savefig(\"knn_standard.jpg\")"
   ]
  },
  {
   "cell_type": "code",
   "execution_count": 130,
   "id": "2f34008d",
   "metadata": {},
   "outputs": [
    {
     "name": "stdout",
     "output_type": "stream",
     "text": [
      "Train accuracy 0.8889483256659891 and Test accuracy 0.8131785847997005 for k 3\n",
      "Train accuracy 0.8676045790093078 and Test accuracy 0.8232871583676525 for k 5\n",
      "Train accuracy 0.8573339039263935 and Test accuracy 0.8279046549357294 for k 7\n",
      "Train accuracy 0.8534824007703007 and Test accuracy 0.830026207412954 for k 9\n",
      "Train accuracy 0.8495239114154274 and Test accuracy 0.8330213403219768 for k 11\n",
      "Train accuracy 0.8492564459184765 and Test accuracy 0.8343941095719456 for k 13\n",
      "Train accuracy 0.844923504867872 and Test accuracy 0.8347685011855734 for k 15\n",
      "Train accuracy 0.8427302877928747 and Test accuracy 0.8348932983901161 for k 17\n",
      "Train accuracy 0.8420883706001926 and Test accuracy 0.8335205291401473 for k 19\n",
      "Train accuracy 0.8418209051032417 and Test accuracy 0.8340197179583178 for k 21\n",
      "Train accuracy 0.8402696052209265 and Test accuracy 0.8336453263446899 for k 23\n",
      "Train accuracy 0.8383438536428801 and Test accuracy 0.832646948708349 for k 25\n",
      "Train accuracy 0.8377554295495881 and Test accuracy 0.8343941095719456 for k 27\n",
      "Train accuracy 0.8388252915373917 and Test accuracy 0.834269312367403 for k 29\n",
      "Train accuracy 0.8373809778538569 and Test accuracy 0.8336453263446899 for k 31\n",
      "Train accuracy 0.8368460468599551 and Test accuracy 0.8340197179583178 for k 33\n",
      "Train accuracy 0.8367390606611748 and Test accuracy 0.8338949207537751 for k 35\n",
      "Train accuracy 0.8356691986733711 and Test accuracy 0.8332709347310621 for k 37\n",
      "Train accuracy 0.835936664170322 and Test accuracy 0.8337701235492325 for k 39\n"
     ]
    }
   ],
   "source": [
    "#Minmax\n",
    "k2=[]\n",
    "train_ac2=[]\n",
    "test_ac2=[]\n",
    "for i in range(3, 40, 2):\n",
    "    knn2=KNeighborsClassifier(n_neighbors=i)\n",
    "    knn_mms = knn2.fit(X_trainmms,y_train)\n",
    "    ac1=knn_mms.score(X_trainmms,y_train)\n",
    "    ac2=knn_mms.score(X_testmms,y_test)\n",
    "    k2.append(i)\n",
    "    train_ac2.append(ac1)\n",
    "    test_ac2.append(ac2)\n",
    "    print(\"Train accuracy {} and Test accuracy {} for k {}\".format(ac1, ac2, i))"
   ]
  },
  {
   "cell_type": "code",
   "execution_count": 133,
   "id": "9b155979",
   "metadata": {},
   "outputs": [
    {
     "data": {
      "image/png": "[encoded data removed]",
      "text/plain": [
       "<Figure size 864x504 with 1 Axes>"
      ]
     },
     "metadata": {
      "needs_background": "light"
     },
     "output_type": "display_data"
    },
    {
     "data": {
      "text/plain": [
       "<Figure size 432x288 with 0 Axes>"
      ]
     },
     "metadata": {},
     "output_type": "display_data"
    }
   ],
   "source": [
    "plt.figure(figsize=(12,7))\n",
    "plt.plot(k2, train_ac2, label=\"Train_accuracy\", color=\"red\")\n",
    "plt.plot(k2, test_ac2, label=\"Test_accuracy\", color=\"orange\")\n",
    "plt.legend()\n",
    "plt.xlabel(\"Neighbors\")\n",
    "plt.ylabel(\"accuracy\")\n",
    "plt.axvline(x = 24, color = 'black', label = 'axvline - full height')\n",
    "plt.axhline(y = 0.84, color = 'black', label = 'axhline - full height')\n",
    "plt.show()\n",
    "plt.savefig(\"knn_minmax.jpg\")"
   ]
  },
  {
   "cell_type": "code",
   "execution_count": 133,
   "id": "6d77904a",
   "metadata": {},
   "outputs": [
    {
     "name": "stdout",
     "output_type": "stream",
     "text": [
      "Train Score 0.8413394672087301\n",
      "Test Score 0.8380132285036815\n"
     ]
    }
   ],
   "source": [
    "knn2 =KNeighborsClassifier(n_neighbors=19)\n",
    "\n",
    "model3 =knn2.fit(X_trainsc,y_train)\n",
    "\n",
    "print(\"Train Score\", model3.score(X_trainsc,y_train))\n",
    "print(\"Test Score\", model3.score(X_testsc,y_test))"
   ]
  },
  {
   "cell_type": "markdown",
   "id": "f476653c",
   "metadata": {},
   "source": [
    "#### Model 4 : Decision Tree"
   ]
  },
  {
   "cell_type": "code",
   "execution_count": 134,
   "id": "6e553cd2",
   "metadata": {},
   "outputs": [],
   "source": [
    "dt = DecisionTreeClassifier()\n",
    "model4 = dt.fit(X_train,y_train)"
   ]
  },
  {
   "cell_type": "code",
   "execution_count": 135,
   "id": "babb781d",
   "metadata": {},
   "outputs": [
    {
     "name": "stdout",
     "output_type": "stream",
     "text": [
      "Train Score 0.9996790414036589\n",
      "Test Score 0.7718707100960939\n"
     ]
    }
   ],
   "source": [
    "print(\"Train Score\", model4.score(X_train,y_train))\n",
    "print(\"Test Score\", model4.score(X_test,y_test))"
   ]
  },
  {
   "cell_type": "code",
   "execution_count": 136,
   "id": "ed3f795a",
   "metadata": {},
   "outputs": [],
   "source": [
    "params_dt = {\"criterion\":['gini'], \n",
    "          \"max_depth\":[5,7,9,11], \n",
    "          \"min_samples_split\":[1,2,3,4], \n",
    "          \"min_samples_leaf\":[1,2,3,4,]}"
   ]
  },
  {
   "cell_type": "code",
   "execution_count": 137,
   "id": "cf80784b",
   "metadata": {},
   "outputs": [],
   "source": [
    "dt2 = DecisionTreeClassifier()\n",
    "\n",
    "dt_gs =GridSearchCV(dt2,params_dt,cv=10,verbose=1,n_jobs=-1)"
   ]
  },
  {
   "cell_type": "code",
   "execution_count": 138,
   "id": "90668be8",
   "metadata": {},
   "outputs": [
    {
     "name": "stdout",
     "output_type": "stream",
     "text": [
      "Fitting 10 folds for each of 64 candidates, totalling 640 fits\n"
     ]
    },
    {
     "name": "stderr",
     "output_type": "stream",
     "text": [
      "C:\\Users\\UTKARSH\\Anaconda3\\lib\\site-packages\\sklearn\\model_selection\\_search.py:925: UserWarning: One or more of the test scores are non-finite: [       nan 0.83925377 0.83925377 0.83925377        nan 0.83925377\n",
      " 0.83925377 0.83925377        nan 0.83925377 0.83925377 0.83925377\n",
      "        nan 0.83925377 0.83925377 0.83925377        nan 0.84058998\n",
      " 0.84069693 0.84069696        nan 0.84069702 0.84053653 0.8405365\n",
      "        nan 0.84091092 0.84091092 0.84107141        nan 0.84091095\n",
      " 0.84075044 0.8405365         nan 0.83256624 0.83288727 0.83310138\n",
      "        nan 0.83213832 0.83336878 0.83245915        nan 0.83294055\n",
      " 0.83219171 0.83251265        nan 0.83363613 0.83320816 0.83299417\n",
      "        nan 0.82497054 0.82288441 0.82218894        nan 0.82534519\n",
      " 0.82379367 0.82486362        nan 0.82684283 0.82593325 0.82652183\n",
      "        nan 0.82957062 0.82935663 0.82940988]\n",
      "  category=UserWarning\n"
     ]
    },
    {
     "data": {
      "text/plain": [
       "GridSearchCV(cv=10, estimator=DecisionTreeClassifier(), n_jobs=-1,\n",
       "             param_grid={'criterion': ['gini'], 'max_depth': [5, 7, 9, 11],\n",
       "                         'min_samples_leaf': [1, 2, 3, 4],\n",
       "                         'min_samples_split': [1, 2, 3, 4]},\n",
       "             verbose=1)"
      ]
     },
     "execution_count": 138,
     "metadata": {},
     "output_type": "execute_result"
    }
   ],
   "source": [
    "dt_gs.fit(X_train,y_train)"
   ]
  },
  {
   "cell_type": "code",
   "execution_count": 139,
   "id": "dcd58ed4",
   "metadata": {},
   "outputs": [
    {
     "data": {
      "text/plain": [
       "{'criterion': 'gini',\n",
       " 'max_depth': 7,\n",
       " 'min_samples_leaf': 3,\n",
       " 'min_samples_split': 4}"
      ]
     },
     "execution_count": 139,
     "metadata": {},
     "output_type": "execute_result"
    }
   ],
   "source": [
    "dt_gs.best_params_"
   ]
  },
  {
   "cell_type": "code",
   "execution_count": 140,
   "id": "7e251139",
   "metadata": {},
   "outputs": [],
   "source": [
    "dt2_gs = DecisionTreeClassifier(criterion='gini',max_depth=7,min_samples_leaf=3,min_samples_split=2)\n",
    "\n",
    "dect = dt2_gs.fit(X_train,y_train)"
   ]
  },
  {
   "cell_type": "code",
   "execution_count": 141,
   "id": "24a3ed13",
   "metadata": {},
   "outputs": [
    {
     "name": "stdout",
     "output_type": "stream",
     "text": [
      "Train Score 0.8551406868513962\n",
      "Test Score 0.8474978160489205\n"
     ]
    }
   ],
   "source": [
    "print(\"Train Score\", dect.score(X_train,y_train))\n",
    "print(\"Test Score\", dect.score(X_test,y_test))"
   ]
  },
  {
   "cell_type": "markdown",
   "id": "38e39bc2",
   "metadata": {},
   "source": [
    "#### Model 5 : RandomForest"
   ]
  },
  {
   "cell_type": "code",
   "execution_count": 142,
   "id": "77ea2ebe",
   "metadata": {},
   "outputs": [],
   "source": [
    "rf = RandomForestClassifier()\n",
    "model5 = rf.fit(X_train,y_train)"
   ]
  },
  {
   "cell_type": "code",
   "execution_count": 143,
   "id": "5dec3c71",
   "metadata": {},
   "outputs": [
    {
     "name": "stdout",
     "output_type": "stream",
     "text": [
      "Train Score 0.9995720552048786\n",
      "Test Score 0.8517409210033695\n"
     ]
    }
   ],
   "source": [
    "print(\"Train Score\", model5.score(X_train,y_train))\n",
    "print(\"Test Score\", model5.score(X_test,y_test))"
   ]
  },
  {
   "cell_type": "markdown",
   "id": "fcdd4555",
   "metadata": {},
   "source": [
    "#### HyperParameter Tuning"
   ]
  },
  {
   "cell_type": "code",
   "execution_count": 144,
   "id": "45423018",
   "metadata": {},
   "outputs": [],
   "source": [
    "params = {\"n_estimators\":[50,100], \n",
    "          \"criterion\":['gini'], \n",
    "          \"max_depth\":[5,7,9,11], \n",
    "          \"min_samples_split\":[2], \n",
    "          \"min_samples_leaf\":[1]}\n",
    "\n",
    "rf2 = RandomForestClassifier()"
   ]
  },
  {
   "cell_type": "code",
   "execution_count": 145,
   "id": "6d6dfb74",
   "metadata": {},
   "outputs": [],
   "source": [
    "rf_gs_sc = GridSearchCV(rf2,params,cv=5,verbose=1,n_jobs=-1)"
   ]
  },
  {
   "cell_type": "code",
   "execution_count": 146,
   "id": "2ea6e899",
   "metadata": {},
   "outputs": [
    {
     "name": "stdout",
     "output_type": "stream",
     "text": [
      "Fitting 5 folds for each of 8 candidates, totalling 40 fits\n"
     ]
    },
    {
     "data": {
      "text/plain": [
       "GridSearchCV(cv=5, estimator=RandomForestClassifier(), n_jobs=-1,\n",
       "             param_grid={'criterion': ['gini'], 'max_depth': [5, 7, 9, 11],\n",
       "                         'min_samples_leaf': [1], 'min_samples_split': [2],\n",
       "                         'n_estimators': [50, 100]},\n",
       "             verbose=1)"
      ]
     },
     "execution_count": 146,
     "metadata": {},
     "output_type": "execute_result"
    }
   ],
   "source": [
    "rf_gs_sc.fit(X_train,y_train)"
   ]
  },
  {
   "cell_type": "code",
   "execution_count": 147,
   "id": "5c855eca",
   "metadata": {},
   "outputs": [
    {
     "data": {
      "text/plain": [
       "{'criterion': 'gini',\n",
       " 'max_depth': 11,\n",
       " 'min_samples_leaf': 1,\n",
       " 'min_samples_split': 2,\n",
       " 'n_estimators': 100}"
      ]
     },
     "execution_count": 147,
     "metadata": {},
     "output_type": "execute_result"
    }
   ],
   "source": [
    "rf_gs_sc.best_params_"
   ]
  },
  {
   "cell_type": "code",
   "execution_count": 148,
   "id": "0309dca4",
   "metadata": {},
   "outputs": [],
   "source": [
    "rf2_sc = RandomForestClassifier(criterion='gini',max_depth=11,min_samples_leaf= 1,\n",
    "                                min_samples_split= 2,n_estimators= 100)\n",
    "rf_sc = rf2_sc.fit(X_train,y_train)"
   ]
  },
  {
   "cell_type": "code",
   "execution_count": 176,
   "id": "9a9e7659",
   "metadata": {},
   "outputs": [
    {
     "name": "stdout",
     "output_type": "stream",
     "text": [
      "Train Score 0.896704825077565\n",
      "Test Score 0.8536128790715088\n"
     ]
    }
   ],
   "source": [
    "print(\"Train Score\", rf_sc.score(X_train,y_train))\n",
    "print(\"Test Score\", rf_sc.score(X_test,y_test))"
   ]
  },
  {
   "cell_type": "code",
   "execution_count": 183,
   "id": "287db7df",
   "metadata": {},
   "outputs": [],
   "source": [
    "train = {\"Train_score\":[xgb.score(X_train,y_train),model2.score(X_train,y_train),model3.score(X_trainsc,y_train),\n",
    "                       dect.score(X_train,y_train),rf_sc.score(X_train,y_train)]}"
   ]
  },
  {
   "cell_type": "code",
   "execution_count": 189,
   "id": "489222d9",
   "metadata": {},
   "outputs": [],
   "source": [
    "df = pd.DataFrame({\"Model\":[\"Xgboost\",\"Adaboost\",\"KNN\",\"DecisionTree\",\"RandomForest\"],\n",
    "            \"Train_Score\":[xgb.score(X_train,y_train),model2.score(X_train,y_train),model3.score(X_trainsc,y_train),\n",
    "                       dect.score(X_train,y_train),rf_sc.score(X_train,y_train)],\n",
    "            \"Test_Score\":[xgb.score(X_test,y_test),model2.score(X_test,y_test),model3.score(X_testsc,y_test),\n",
    "                       dect.score(X_test,y_test),rf_sc.score(X_test,y_test)]})"
   ]
  },
  {
   "cell_type": "code",
   "execution_count": 198,
   "id": "bc016a37",
   "metadata": {},
   "outputs": [],
   "source": [
    "df.to_excel(\"df.xlsx\")"
   ]
  }
 ],
 "metadata": {
  "kernelspec": {
   "display_name": "Python 3",
   "language": "python",
   "name": "python3"
  },
  "language_info": {
   "codemirror_mode": {
    "name": "ipython",
    "version": 3
   },
   "file_extension": ".py",
   "mimetype": "text/x-python",
   "name": "python",
   "nbconvert_exporter": "python",
   "pygments_lexer": "ipython3",
   "version": "3.8.8"
  }
 },
 "nbformat": 4,
 "nbformat_minor": 5
}
